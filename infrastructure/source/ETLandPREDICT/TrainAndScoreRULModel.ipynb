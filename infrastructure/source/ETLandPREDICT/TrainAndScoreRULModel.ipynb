{
  "metadata": {
    "saveOutput": true,
    "language_info": {
      "name": "python"
    }
  },
  "nbformat": 4,
  "nbformat_minor": 2,
  "cells": [
    {
      "cell_type": "markdown",
      "metadata": {},
      "source": [
        "## Feature generation\n",
        "\n",
        "### Extract and summarize the columns you need to learn\n",
        "\n",
        "Here we create a relationship between the average value of each sensor and the RUL (service life) for each device."
      ],
      "attachments": {}
    },
    {
      "cell_type": "code",
      "execution_count": 4,
      "outputs": [
        {
          "output_type": "execute_result",
          "execution_count": 4,
          "data": {
            "text/plain": "+---------+------+---+-----------+-----------+-----------+----------+\n| DeviceId|Period|RUL|avgSensor11|avgSensor14|avgSensor15|avgSensor9|\n+---------+------+---+-----------+-----------+-----------+----------+\n|N1172FJ-2|    16|172|      46.17|    8121.61|       8.78|   8782.62|\n|N3172FJ-1|     5|164|       44.3|    8080.08|       9.27|   8720.57|\n|N1172FJ-1|    52|149|      45.87|    8122.38|       8.75|    8778.9|\n|N1172FJ-1|    35|134|      46.17|    8106.67|       8.72|    8764.4|\n|N4172FJ-1|     6|168|      41.91|    8101.64|       9.32|   8338.59|\n|N3172FJ-1|    24|203|      44.55|    8068.05|       9.21|   8728.73|\n|N1172FJ-1|    25|228|      46.18|    8125.25|       8.74|    8778.9|\n|N4172FJ-2|    15|177|       42.5|    8102.25|       9.43|   8346.38|\n|N1172FJ-1|    43|339|      48.06|    8121.72|       8.56|   9053.16|\n|N3172FJ-2|    48|242|      42.32|    8156.91|       9.37|   8396.64|\n+---------+------+---+-----------+-----------+-----------+----------+\nonly showing top 10 rows"
          },
          "metadata": {}
        }
      ],
      "metadata": {},
      "source": [
        "pydf = spark.sql(\"\"\"\n",
        "    SELECT\n",
        "        DeviceId,\n",
        "        Period,\n",
        "        max(Cycle) AS RUL,\n",
        "        round(avg(Sensor11),2) AS avgSensor11,\n",
        "        round(avg(Sensor14),2) AS avgSensor14,\n",
        "        round(avg(Sensor15),2) AS avgSensor15,\n",
        "        round(avg(Sensor9),2) AS avgSensor9\n",
        "    FROM \n",
        "        sensortablespark\n",
        "    WHERE\n",
        "        endofperiod = 1 \n",
        "    GROUP BY \n",
        "        DeviceId,\n",
        "        Period\n",
        "    \"\"\")\n",
        "pydf.show(10)"
      ],
      "attachments": {}
    },
    {
      "cell_type": "code",
      "execution_count": 5,
      "outputs": [
        {
          "output_type": "execute_result",
          "execution_count": 5,
          "data": {
            "text/plain": "(436, 7)"
          },
          "metadata": {}
        }
      ],
      "metadata": {},
      "source": [
        "# Shape\n",
        "print((pydf.count(), len(pydf.columns)))"
      ],
      "attachments": {}
    },
    {
      "cell_type": "markdown",
      "metadata": {},
      "source": [
        "## Feature conversion\n",
        "\n",
        "Convert selected features to a vector format that can be executed, using the SparkML libary."
      ],
      "attachments": {}
    },
    {
      "cell_type": "code",
      "execution_count": 6,
      "outputs": [],
      "metadata": {},
      "source": [
        "from pyspark.ml.feature import VectorAssembler\n",
        "from pyspark.ml.regression import LinearRegression\n",
        "# Feature conversion\n",
        "vectorAssembler = VectorAssembler(inputCols = ['avgSensor11','avgSensor14','avgSensor15','avgSensor9'], outputCol = 'features')\n",
        "# T-SQL feature reduction and simplification for PREDICT version\n",
        "# vectorAssembler = VectorAssembler(inputCols = ['Sensor11'], outputCol = 'features')\n",
        "\n",
        "vdf = vectorAssembler.transform(pydf)"
      ],
      "attachments": {}
    },
    {
      "cell_type": "markdown",
      "metadata": {},
      "source": [
        "## Splitting the dataset\n",
        "\n",
        "Split the dataset so that ~70% is used for training, and ~30% used for testing/validation.\n",
        ""
      ],
      "attachments": {}
    },
    {
      "cell_type": "code",
      "execution_count": 7,
      "outputs": [],
      "metadata": {},
      "source": [
        "trainingFraction = 0.7\n",
        "testingFraction = (1-trainingFraction)\n",
        "seed = 42\n",
        "\n",
        "# Split the dataframe into test and training dataframes\n",
        "df_train, df_test = vdf.randomSplit([trainingFraction, testingFraction], seed=seed)"
      ],
      "attachments": {}
    },
    {
      "cell_type": "markdown",
      "metadata": {},
      "source": [
        "## Model learning\n",
        "\n",
        "In this example, we are using linear regression. Please select the appropriate algorithm for time series data to suit your needs."
      ],
      "attachments": {}
    },
    {
      "cell_type": "code",
      "execution_count": 8,
      "outputs": [
        {
          "output_type": "execute_result",
          "execution_count": 8,
          "data": {
            "text/plain": "Coefficients: [48.60422924904571,0.7054445822887963,228.64868661178608,-0.13947212394329359]\nIntercept: -8580.95906729857"
          },
          "metadata": {}
        }
      ],
      "metadata": {},
      "source": [
        "# Modeling\n",
        "lin_reg = LinearRegression(featuresCol = 'features', labelCol='RUL', maxIter = 10, regParam=0.3)\n",
        "model = lin_reg.fit(df_train)\n",
        "print(\"Coefficients: \" + str(model.coefficients))\n",
        "print(\"Intercept: \" + str(model.intercept))"
      ],
      "attachments": {}
    },
    {
      "cell_type": "markdown",
      "metadata": {},
      "source": [
        "## Reviewing the results of inferences\n",
        ""
      ],
      "attachments": {}
    },
    {
      "cell_type": "code",
      "execution_count": 9,
      "outputs": [],
      "metadata": {},
      "source": [
        "# Inferencing in a test dataset\n",
        "prediction = model.transform(df_test)"
      ],
      "attachments": {}
    },
    {
      "cell_type": "code",
      "execution_count": 10,
      "outputs": [
        {
          "output_type": "execute_result",
          "execution_count": 10,
          "data": {
            "application/json": {
              "table": {
                "rows": [
                  {
                    "features": {
                      "type": 1,
                      "values": [
                        44.55,
                        8068.05,
                        9.21,
                        8728.73
                      ]
                    },
                    "RUL": 203,
                    "prediction": 164.36139914854357
                  },
                  {
                    "features": {
                      "type": 1,
                      "values": [
                        42.5,
                        8102.25,
                        9.43,
                        8346.38
                      ]
                    },
                    "RUL": 177,
                    "prediction": 192.47881154658717
                  },
                  {
                    "features": {
                      "type": 1,
                      "values": [
                        46.17,
                        8145.53,
                        8.76,
                        8803.21
                      ]
                    },
                    "RUL": 242,
                    "prediction": 184.47830400113344
                  },
                  {
                    "features": {
                      "type": 1,
                      "values": [
                        42.32,
                        8156.91,
                        9.37,
                        8396.64
                      ]
                    },
                    "RUL": 242,
                    "prediction": 201.5608610035688
                  },
                  {
                    "features": {
                      "type": 1,
                      "values": [
                        42.27,
                        8113.82,
                        9.38,
                        8353.92
                      ]
                    },
                    "RUL": 142,
                    "prediction": 176.97777849126578
                  },
                  {
                    "features": {
                      "type": 1,
                      "values": [
                        42.58,
                        8145.75,
                        9.41,
                        8391.1
                      ]
                    },
                    "RUL": 286,
                    "prediction": 216.24382210109434
                  },
                  {
                    "features": {
                      "type": 1,
                      "values": [
                        47.6,
                        8152.79,
                        8.45,
                        9082.44
                      ]
                    },
                    "RUL": 189,
                    "prediction": 149.27798547634666
                  },
                  {
                    "features": {
                      "type": 1,
                      "values": [
                        42.79,
                        8150.38,
                        9.44,
                        8398.68
                      ]
                    },
                    "RUL": 157,
                    "prediction": 235.51918055825445
                  },
                  {
                    "features": {
                      "type": 1,
                      "values": [
                        42.02,
                        8068.13,
                        9.39,
                        8307.51
                      ]
                    },
                    "RUL": 102,
                    "prediction": 141.35434635255478
                  },
                  {
                    "features": {
                      "type": 1,
                      "values": [
                        42.89,
                        8171.2,
                        9.39,
                        8423.37
                      ]
                    },
                    "RUL": 215,
                    "prediction": 240.19095861566166
                  },
                  {
                    "features": {
                      "type": 1,
                      "values": [
                        45.59,
                        8120.26,
                        8.68,
                        8765.97
                      ]
                    },
                    "RUL": 156,
                    "prediction": 125.36331340895413
                  },
                  {
                    "features": {
                      "type": 1,
                      "values": [
                        45.58,
                        8113.52,
                        8.68,
                        8765.86
                      ]
                    },
                    "RUL": 51,
                    "prediction": 120.13791656547073
                  },
                  {
                    "features": {
                      "type": 1,
                      "values": [
                        46.17,
                        8137.74,
                        8.77,
                        8796.46
                      ]
                    },
                    "RUL": 160,
                    "prediction": 182.21081440783746
                  },
                  {
                    "features": {
                      "type": 1,
                      "values": [
                        47.51,
                        8129.15,
                        8.44,
                        9042.71
                      ]
                    },
                    "RUL": 88,
                    "prediction": 131.48163553677296
                  },
                  {
                    "features": {
                      "type": 1,
                      "values": [
                        46.18,
                        8139.22,
                        8.76,
                        8795.47
                      ]
                    },
                    "RUL": 209,
                    "prediction": 181.59250521870308
                  },
                  {
                    "features": {
                      "type": 1,
                      "values": [
                        42.62,
                        8142.26,
                        9.43,
                        8396.18
                      ]
                    },
                    "RUL": 278,
                    "prediction": 219.590445021473
                  },
                  {
                    "features": {
                      "type": 1,
                      "values": [
                        42.8,
                        8220.82,
                        9.4,
                        8459.05
                      ]
                    },
                    "RUL": 181,
                    "prediction": 268.13085964023776
                  },
                  {
                    "features": {
                      "type": 1,
                      "values": [
                        37.26,
                        7857.06,
                        10.98,
                        7995.54
                      ]
                    },
                    "RUL": 254,
                    "prediction": 168.16255736273342
                  },
                  {
                    "features": {
                      "type": 1,
                      "values": [
                        48.25,
                        8119.5,
                        8.54,
                        9049.62
                      ]
                    },
                    "RUL": 128,
                    "prediction": 182.54234124670984
                  },
                  {
                    "features": {
                      "type": 1,
                      "values": [
                        42.19,
                        8072.11,
                        9.39,
                        8356.42
                      ]
                    },
                    "RUL": 103,
                    "prediction": 145.60315318033645
                  },
                  {
                    "features": {
                      "type": 1,
                      "values": [
                        42.69,
                        8112.16,
                        9.42,
                        8357.44
                      ]
                    },
                    "RUL": 323,
                    "prediction": 204.87552235745716
                  },
                  {
                    "features": {
                      "type": 1,
                      "values": [
                        42.67,
                        8082.28,
                        9.51,
                        8324.83
                      ]
                    },
                    "RUL": 281,
                    "prediction": 207.9513214105391
                  },
                  {
                    "features": {
                      "type": 1,
                      "values": [
                        42.61,
                        8183.07,
                        9.41,
                        8425.54
                      ]
                    },
                    "RUL": 258,
                    "prediction": 239.22572084097555
                  },
                  {
                    "features": {
                      "type": 1,
                      "values": [
                        44.82,
                        8047.13,
                        9.29,
                        8717.88
                      ]
                    },
                    "RUL": 187,
                    "prediction": 182.53180785803306
                  },
                  {
                    "features": {
                      "type": 1,
                      "values": [
                        42.09,
                        8068.33,
                        9.34,
                        8359.74
                      ]
                    },
                    "RUL": 120,
                    "prediction": 126.18066795229788
                  },
                  {
                    "features": {
                      "type": 1,
                      "values": [
                        47.61,
                        8179.97,
                        8.48,
                        9111.44
                      ]
                    },
                    "RUL": 188,
                    "prediction": 171.75278051944224
                  },
                  {
                    "features": {
                      "type": 1,
                      "values": [
                        44.8,
                        8056.54,
                        9.3,
                        8717.66
                      ]
                    },
                    "RUL": 287,
                    "prediction": 190.515127525774
                  },
                  {
                    "features": {
                      "type": 1,
                      "values": [
                        42.1,
                        8080.53,
                        9.36,
                        8320.76
                      ]
                    },
                    "RUL": 73,
                    "prediction": 145.2827312722584
                  },
                  {
                    "features": {
                      "type": 1,
                      "values": [
                        44.59,
                        8052.47,
                        9.23,
                        8715.41
                      ]
                    },
                    "RUL": 26,
                    "prediction": 161.74548414960555
                  },
                  {
                    "features": {
                      "type": 1,
                      "values": [
                        42.97,
                        8131.77,
                        9.36,
                        8426.67
                      ]
                    },
                    "RUL": 226,
                    "prediction": 208.9438984685712
                  },
                  {
                    "features": {
                      "type": 1,
                      "values": [
                        42.45,
                        8090.59,
                        9.45,
                        8333.1
                      ]
                    },
                    "RUL": 185,
                    "prediction": 188.24827979284964
                  },
                  {
                    "features": {
                      "type": 1,
                      "values": [
                        44.38,
                        8071.08,
                        9.21,
                        8729.31
                      ]
                    },
                    "RUL": 117,
                    "prediction": 158.155283428654
                  },
                  {
                    "features": {
                      "type": 1,
                      "values": [
                        42.11,
                        8079.72,
                        9.38,
                        8327.35
                      ]
                    },
                    "RUL": 85,
                    "prediction": 148.85121588854417
                  },
                  {
                    "features": {
                      "type": 1,
                      "values": [
                        42.09,
                        8103.37,
                        9.36,
                        8346.31
                      ]
                    },
                    "RUL": 238,
                    "prediction": 157.34553047249392
                  },
                  {
                    "features": {
                      "type": 1,
                      "values": [
                        42.76,
                        8234.14,
                        9.37,
                        8484.43
                      ]
                    },
                    "RUL": 231,
                    "prediction": 265.1839492023282
                  },
                  {
                    "features": {
                      "type": 1,
                      "values": [
                        42.03,
                        8106.19,
                        9.32,
                        8342.53
                      ]
                    },
                    "RUL": 167,
                    "prediction": 147.79988760363813
                  },
                  {
                    "features": {
                      "type": 1,
                      "values": [
                        37.51,
                        7875.33,
                        11.02,
                        8011.03
                      ]
                    },
                    "RUL": 192,
                    "prediction": 200.18761145799726
                  },
                  {
                    "features": {
                      "type": 1,
                      "values": [
                        42.92,
                        8092.1,
                        9.47,
                        8347.25
                      ]
                    },
                    "RUL": 199,
                    "prediction": 214.75693203759693
                  },
                  {
                    "features": {
                      "type": 1,
                      "values": [
                        42.13,
                        8083.13,
                        9.38,
                        8318.09
                      ]
                    },
                    "RUL": 102,
                    "prediction": 153.52037836684394
                  },
                  {
                    "features": {
                      "type": 1,
                      "values": [
                        42.5,
                        8141.65,
                        9.43,
                        8433.91
                      ]
                    },
                    "RUL": 225,
                    "prediction": 208.0653330800087
                  },
                  {
                    "features": {
                      "type": 1,
                      "values": [
                        42.85,
                        8042.06,
                        9.44,
                        8333.95
                      ]
                    },
                    "RUL": 152,
                    "prediction": 171.04970774252433
                  },
                  {
                    "features": {
                      "type": 1,
                      "values": [
                        46.13,
                        8116.62,
                        8.73,
                        8776.6
                      ]
                    },
                    "RUL": 174,
                    "prediction": 158.99162457698003
                  },
                  {
                    "features": {
                      "type": 1,
                      "values": [
                        42.51,
                        8157.74,
                        9.41,
                        8404.95
                      ]
                    },
                    "RUL": 223,
                    "prediction": 219.36811767868858
                  },
                  {
                    "features": {
                      "type": 1,
                      "values": [
                        47.52,
                        8134.95,
                        8.45,
                        9054.71
                      ]
                    },
                    "RUL": 16,
                    "prediction": 136.67207778533702
                  },
                  {
                    "features": {
                      "type": 1,
                      "values": [
                        42.02,
                        8092.88,
                        9.36,
                        8334.95
                      ]
                    },
                    "RUL": 145,
                    "prediction": 148.1275240848463
                  },
                  {
                    "features": {
                      "type": 1,
                      "values": [
                        41.84,
                        8061.22,
                        9.31,
                        8350.01
                      ]
                    },
                    "RUL": 89,
                    "prediction": 103.51150282757953
                  },
                  {
                    "features": {
                      "type": 1,
                      "values": [
                        46.05,
                        8151.7,
                        8.79,
                        8807.01
                      ]
                    },
                    "RUL": 237,
                    "prediction": 189.3278560913368
                  },
                  {
                    "features": {
                      "type": 1,
                      "values": [
                        42.43,
                        8091.62,
                        9.42,
                        8329.99
                      ]
                    },
                    "RUL": 220,
                    "prediction": 181.57710083473648
                  },
                  {
                    "features": {
                      "type": 1,
                      "values": [
                        46.12,
                        8129.14,
                        8.77,
                        8784.44
                      ]
                    },
                    "RUL": 229,
                    "prediction": 175.3902344675007
                  },
                  {
                    "features": {
                      "type": 1,
                      "values": [
                        42.62,
                        8068.36,
                        9.46,
                        8313.19
                      ]
                    },
                    "RUL": 145,
                    "prediction": 185.8923425547382
                  },
                  {
                    "features": {
                      "type": 1,
                      "values": [
                        45.53,
                        8145.26,
                        8.71,
                        8804.14
                      ]
                    },
                    "RUL": 186,
                    "prediction": 141.618983838669
                  },
                  {
                    "features": {
                      "type": 1,
                      "values": [
                        37.05,
                        7869.95,
                        10.92,
                        8014.71
                      ]
                    },
                    "RUL": 120,
                    "prediction": 150.65624807343374
                  },
                  {
                    "features": {
                      "type": 1,
                      "values": [
                        42.29,
                        8083.42,
                        9.4,
                        8317.12
                      ]
                    },
                    "RUL": 179,
                    "prediction": 166.20989566801654
                  },
                  {
                    "features": {
                      "type": 1,
                      "values": [
                        37.44,
                        7857.85,
                        11.02,
                        7995.21
                      ]
                    },
                    "RUL": 249,
                    "prediction": 186.66059311293975
                  },
                  {
                    "features": {
                      "type": 1,
                      "values": [
                        42.23,
                        8075.12,
                        9.37,
                        8312.96
                      ]
                    },
                    "RUL": 168,
                    "prediction": 151.15919531732652
                  },
                  {
                    "features": {
                      "type": 1,
                      "values": [
                        46.03,
                        8107.17,
                        8.76,
                        8766.25
                      ]
                    },
                    "RUL": 176,
                    "prediction": 155.76774743061287
                  },
                  {
                    "features": {
                      "type": 1,
                      "values": [
                        42.73,
                        8068.55,
                        9.49,
                        8309.99
                      ]
                    },
                    "RUL": 154,
                    "prediction": 198.67861363773955
                  },
                  {
                    "features": {
                      "type": 1,
                      "values": [
                        45.49,
                        8118.94,
                        8.65,
                        8766.26
                      ]
                    },
                    "RUL": 74,
                    "prediction": 112.67179612113068
                  },
                  {
                    "features": {
                      "type": 1,
                      "values": [
                        42.45,
                        8065.03,
                        9.4,
                        8353.55
                      ]
                    },
                    "RUL": 200,
                    "prediction": 155.9324770043204
                  },
                  {
                    "features": {
                      "type": 1,
                      "values": [
                        45.58,
                        8121.33,
                        8.68,
                        8769.85
                      ]
                    },
                    "RUL": 200,
                    "prediction": 125.09094497861224
                  },
                  {
                    "features": {
                      "type": 1,
                      "values": [
                        42.7,
                        8204.9,
                        9.38,
                        8454.52
                      ]
                    },
                    "RUL": 174,
                    "prediction": 248.09859395452622
                  },
                  {
                    "features": {
                      "type": 1,
                      "values": [
                        42.46,
                        8072.34,
                        9.43,
                        8319.15
                      ]
                    },
                    "RUL": 132,
                    "prediction": 173.23262085534407
                  },
                  {
                    "features": {
                      "type": 1,
                      "values": [
                        42.65,
                        8158.83,
                        9.4,
                        8417.23
                      ]
                    },
                    "RUL": 236,
                    "prediction": 222.94243982010812
                  },
                  {
                    "features": {
                      "type": 1,
                      "values": [
                        37.3,
                        7860.58,
                        11,
                        7996.55
                      ]
                    },
                    "RUL": 199,
                    "prediction": 177.02199834940257
                  },
                  {
                    "features": {
                      "type": 1,
                      "values": [
                        44.4,
                        8066.88,
                        9.26,
                        8727.67
                      ]
                    },
                    "RUL": 153,
                    "prediction": 167.82566938187665
                  },
                  {
                    "features": {
                      "type": 1,
                      "values": [
                        42.63,
                        8091.35,
                        9.44,
                        8330.64
                      ]
                    },
                    "RUL": 213,
                    "prediction": 195.58979349900255
                  },
                  {
                    "features": {
                      "type": 1,
                      "values": [
                        45.61,
                        8133.33,
                        8.69,
                        8776.81
                      ]
                    },
                    "RUL": 79,
                    "prediction": 136.33016772702103
                  },
                  {
                    "features": {
                      "type": 1,
                      "values": [
                        42.75,
                        8125.64,
                        9.48,
                        8363.55
                      ]
                    },
                    "RUL": 277,
                    "prediction": 230.16791560106685
                  },
                  {
                    "features": {
                      "type": 1,
                      "values": [
                        44.82,
                        8200.43,
                        9.33,
                        8881.97
                      ]
                    },
                    "RUL": 272,
                    "prediction": 276.9364289695204
                  },
                  {
                    "features": {
                      "type": 1,
                      "values": [
                        42.44,
                        8095.98,
                        9.38,
                        8387.15
                      ]
                    },
                    "RUL": 280,
                    "prediction": 168.02070743693548
                  },
                  {
                    "features": {
                      "type": 1,
                      "values": [
                        46.13,
                        8145.66,
                        8.74,
                        8802.92
                      ]
                    },
                    "RUL": 170,
                    "prediction": 178.0933158105763
                  },
                  {
                    "features": {
                      "type": 1,
                      "values": [
                        42.92,
                        8083.44,
                        9.49,
                        8326.34
                      ]
                    },
                    "RUL": 174,
                    "prediction": 216.1371177988658
                  },
                  {
                    "features": {
                      "type": 1,
                      "values": [
                        42.02,
                        8096.6,
                        9.38,
                        8338.58
                      ]
                    },
                    "RUL": 133,
                    "prediction": 154.81846785328344
                  },
                  {
                    "features": {
                      "type": 1,
                      "values": [
                        42.17,
                        8092.34,
                        9.31,
                        8385.06
                      ]
                    },
                    "RUL": 127,
                    "prediction": 136.61583593637988
                  },
                  {
                    "features": {
                      "type": 1,
                      "values": [
                        45.86,
                        8137.46,
                        8.8,
                        8764.53
                      ]
                    },
                    "RUL": 242,
                    "prediction": 178.25878437345636
                  },
                  {
                    "features": {
                      "type": 1,
                      "values": [
                        48.27,
                        8113.18,
                        8.54,
                        9049.71
                      ]
                    },
                    "RUL": 171,
                    "prediction": 179.04346358047223
                  },
                  {
                    "features": {
                      "type": 1,
                      "values": [
                        42.6,
                        8185.87,
                        9.4,
                        8432.37
                      ]
                    },
                    "RUL": 249,
                    "prediction": 237.47584190624366
                  },
                  {
                    "features": {
                      "type": 1,
                      "values": [
                        48.31,
                        8112.46,
                        8.52,
                        9032.94
                      ]
                    },
                    "RUL": 154,
                    "prediction": 178.2456864374799
                  },
                  {
                    "features": {
                      "type": 1,
                      "values": [
                        41.94,
                        8066.39,
                        9.3,
                        8343.82
                      ]
                    },
                    "RUL": 39,
                    "prediction": 110.59591982400707
                  },
                  {
                    "features": {
                      "type": 1,
                      "values": [
                        42.01,
                        8072.99,
                        9.33,
                        8358.01
                      ]
                    },
                    "RUL": 198,
                    "prediction": 123.53450127414544
                  },
                  {
                    "features": {
                      "type": 1,
                      "values": [
                        45.8,
                        8140.07,
                        8.73,
                        8796.27
                      ]
                    },
                    "RUL": 216,
                    "prediction": 156.7514877015019
                  },
                  {
                    "features": {
                      "type": 1,
                      "values": [
                        44.33,
                        8051.52,
                        9.22,
                        8721.42
                      ]
                    },
                    "RUL": 135,
                    "prediction": 145.31349786066312
                  },
                  {
                    "features": {
                      "type": 1,
                      "values": [
                        42.13,
                        8062.21,
                        9.4,
                        8347.06
                      ]
                    },
                    "RUL": 221,
                    "prediction": 139.2949440069624
                  },
                  {
                    "features": {
                      "type": 1,
                      "values": [
                        48.19,
                        8172.59,
                        8.51,
                        9104.91
                      ]
                    },
                    "RUL": 260,
                    "prediction": 202.50726603430303
                  },
                  {
                    "features": {
                      "type": 1,
                      "values": [
                        42.56,
                        8080.29,
                        9.43,
                        8364.47
                      ]
                    },
                    "RUL": 210,
                    "prediction": 177.3804515523334
                  },
                  {
                    "features": {
                      "type": 1,
                      "values": [
                        45.96,
                        8104.95,
                        8.77,
                        8757.53
                      ]
                    },
                    "RUL": 225,
                    "prediction": 154.30204819740175
                  },
                  {
                    "features": {
                      "type": 1,
                      "values": [
                        43.02,
                        8117.92,
                        9.44,
                        8363.85
                      ]
                    },
                    "RUL": 218,
                    "prediction": 228.65723622138285
                  },
                  {
                    "features": {
                      "type": 1,
                      "values": [
                        37.32,
                        7859.69,
                        10.98,
                        8006.57
                      ]
                    },
                    "RUL": 201,
                    "prediction": 171.39575284199964
                  },
                  {
                    "features": {
                      "type": 1,
                      "values": [
                        47.77,
                        8166.32,
                        8.47,
                        9091.71
                      ]
                    },
                    "RUL": 183,
                    "prediction": 170.36543679033275
                  },
                  {
                    "features": {
                      "type": 1,
                      "values": [
                        42.75,
                        8067.1,
                        9.46,
                        8308.65
                      ]
                    },
                    "RUL": 243,
                    "prediction": 191.95523562613198
                  },
                  {
                    "features": {
                      "type": 1,
                      "values": [
                        42.77,
                        8085.8,
                        9.44,
                        8335.73
                      ]
                    },
                    "RUL": 238,
                    "prediction": 197.76925505129293
                  },
                  {
                    "features": {
                      "type": 1,
                      "values": [
                        42.2,
                        8078.44,
                        9.4,
                        8321.34
                      ]
                    },
                    "RUL": 28,
                    "prediction": 157.7338286527647
                  },
                  {
                    "features": {
                      "type": 1,
                      "values": [
                        42.64,
                        8225.64,
                        9.36,
                        8475.52
                      ]
                    },
                    "RUL": 178,
                    "prediction": 252.31137250120628
                  },
                  {
                    "features": {
                      "type": 1,
                      "values": [
                        41.86,
                        8071.8,
                        9.27,
                        8362.9
                      ]
                    },
                    "RUL": 92,
                    "prediction": 101.00344795107594
                  },
                  {
                    "features": {
                      "type": 1,
                      "values": [
                        42.55,
                        8135.1,
                        9.42,
                        8430.59
                      ]
                    },
                    "RUL": 225,
                    "prediction": 204.05144311384538
                  },
                  {
                    "features": {
                      "type": 1,
                      "values": [
                        47.31,
                        8144.34,
                        8.4,
                        9058.96
                      ]
                    },
                    "RUL": 44,
                    "prediction": 121.06412341338
                  },
                  {
                    "features": {
                      "type": 1,
                      "values": [
                        42.18,
                        8059.62,
                        9.33,
                        8346.18
                      ]
                    },
                    "RUL": 133,
                    "prediction": 124.01538140753291
                  },
                  {
                    "features": {
                      "type": 1,
                      "values": [
                        41.88,
                        8087.17,
                        9.31,
                        8322.63
                      ]
                    },
                    "RUL": 38,
                    "prediction": 127.58070566150309
                  },
                  {
                    "features": {
                      "type": 1,
                      "values": [
                        44.44,
                        8073.25,
                        9.25,
                        8736.94
                      ]
                    },
                    "RUL": 157,
                    "prediction": 170.68412708594587
                  },
                  {
                    "features": {
                      "type": 1,
                      "values": [
                        42.59,
                        8102.79,
                        9.44,
                        8354.8
                      ]
                    },
                    "RUL": 193,
                    "prediction": 198.3462638359524
                  },
                  {
                    "features": {
                      "type": 1,
                      "values": [
                        46.23,
                        8102.31,
                        8.7,
                        8781.16
                      ]
                    },
                    "RUL": 147,
                    "prediction": 146.261682045797
                  },
                  {
                    "features": {
                      "type": 1,
                      "values": [
                        37.14,
                        7877.35,
                        10.93,
                        8027.04
                      ]
                    },
                    "RUL": 224,
                    "prediction": 160.81771419268262
                  },
                  {
                    "features": {
                      "type": 1,
                      "values": [
                        41.99,
                        8094.6,
                        9.34,
                        8336.01
                      ]
                    },
                    "RUL": 122,
                    "prediction": 143.16194770529728
                  },
                  {
                    "features": {
                      "type": 1,
                      "values": [
                        42.67,
                        8070.86,
                        9.45,
                        8355.68
                      ]
                    },
                    "RUL": 223,
                    "prediction": 181.87350806044378
                  },
                  {
                    "features": {
                      "type": 1,
                      "values": [
                        42.63,
                        8109.46,
                        9.43,
                        8356.06
                      ]
                    },
                    "RUL": 182,
                    "prediction": 202.5335266274942
                  },
                  {
                    "features": {
                      "type": 1,
                      "values": [
                        42.91,
                        8200.28,
                        9.4,
                        8441.83
                      ]
                    },
                    "RUL": 190,
                    "prediction": 261.3892031117248
                  },
                  {
                    "features": {
                      "type": 1,
                      "values": [
                        42.8,
                        8090.23,
                        9.46,
                        8325.39
                      ]
                    },
                    "RUL": 223,
                    "prediction": 208.36761692211257
                  },
                  {
                    "features": {
                      "type": 1,
                      "values": [
                        42.6,
                        8062.43,
                        9.42,
                        8354.5
                      ]
                    },
                    "RUL": 202,
                    "prediction": 165.82943069221437
                  },
                  {
                    "features": {
                      "type": 1,
                      "values": [
                        36.67,
                        7877.23,
                        10.92,
                        8006.24
                      ]
                    },
                    "RUL": 72,
                    "prediction": 138.5036064076594
                  },
                  {
                    "features": {
                      "type": 1,
                      "values": [
                        44.54,
                        8064.4,
                        9.23,
                        8723.86
                      ]
                    },
                    "RUL": 163,
                    "prediction": 166.55268710653763
                  },
                  {
                    "features": {
                      "type": 1,
                      "values": [
                        48.38,
                        8144.53,
                        8.49,
                        9069.05
                      ]
                    },
                    "RUL": 203,
                    "prediction": 192.37579124496915
                  },
                  {
                    "features": {
                      "type": 1,
                      "values": [
                        36.94,
                        7872.05,
                        10.9,
                        8017.52
                      ]
                    },
                    "RUL": 116,
                    "prediction": 141.82632607832966
                  },
                  {
                    "features": {
                      "type": 1,
                      "values": [
                        47.77,
                        8128.74,
                        8.43,
                        9050.2
                      ]
                    },
                    "RUL": 49,
                    "prediction": 140.49836978833264
                  },
                  {
                    "features": {
                      "type": 1,
                      "values": [
                        45.37,
                        8144.72,
                        8.64,
                        8800.82
                      ]
                    },
                    "RUL": 125,
                    "prediction": 117.91900647305192
                  },
                  {
                    "features": {
                      "type": 1,
                      "values": [
                        44.34,
                        8069.12,
                        9.21,
                        8726.66
                      ]
                    },
                    "RUL": 82,
                    "prediction": 155.198044005856
                  },
                  {
                    "features": {
                      "type": 1,
                      "values": [
                        42.79,
                        8156.75,
                        9.42,
                        8402.2
                      ]
                    },
                    "RUL": 187,
                    "prediction": 234.9489469389173
                  },
                  {
                    "features": {
                      "type": 1,
                      "values": [
                        37.38,
                        7935.94,
                        11,
                        8078.72
                      ]
                    },
                    "RUL": 202,
                    "prediction": 222.61221598618977
                  },
                  {
                    "features": {
                      "type": 1,
                      "values": [
                        42.84,
                        8058.36,
                        9.48,
                        8309.73
                      ]
                    },
                    "RUL": 213,
                    "prediction": 194.5863744477174
                  },
                  {
                    "features": {
                      "type": 1,
                      "values": [
                        41.94,
                        8066.8,
                        9.39,
                        8312.53
                      ]
                    },
                    "RUL": 54,
                    "prediction": 135.82761665599355
                  },
                  {
                    "features": {
                      "type": 1,
                      "values": [
                        46.19,
                        8138.17,
                        8.76,
                        8803.37
                      ]
                    },
                    "RUL": 199,
                    "prediction": 180.2360009206368
                  },
                  {
                    "features": {
                      "type": 1,
                      "values": [
                        42.08,
                        8069.81,
                        9.34,
                        8351.78
                      ]
                    },
                    "RUL": 149,
                    "prediction": 127.8488817481848
                  },
                  {
                    "features": {
                      "type": 1,
                      "values": [
                        37.02,
                        7880.46,
                        10.95,
                        8020.99
                      ]
                    },
                    "RUL": 181,
                    "prediction": 162.59591941580766
                  },
                  {
                    "features": {
                      "type": 1,
                      "values": [
                        41.93,
                        8067.76,
                        9.3,
                        8350.1
                      ]
                    },
                    "RUL": 93,
                    "prediction": 110.20045167088938
                  },
                  {
                    "features": {
                      "type": 1,
                      "values": [
                        47.49,
                        8139.71,
                        8.53,
                        9013.29
                      ]
                    },
                    "RUL": 218,
                    "prediction": 162.64069742223364
                  },
                  {
                    "features": {
                      "type": 1,
                      "values": [
                        42.02,
                        8092.82,
                        9.38,
                        8337.36
                      ]
                    },
                    "RUL": 169,
                    "prediction": 152.32204332344008
                  },
                  {
                    "features": {
                      "type": 1,
                      "values": [
                        42.71,
                        8102.66,
                        9.44,
                        8343.84
                      ]
                    },
                    "RUL": 199,
                    "prediction": 205.61567802856007
                  }
                ],
                "schema": {
                  "features": "org.apache.spark.ml.linalg.VectorUDT@3bfc3ba7",
                  "RUL": "bigint",
                  "prediction": "double"
                }
              },
              "isSummary": false,
              "language": "scala"
            }
          },
          "metadata": {}
        }
      ],
      "metadata": {
        "diagram": {
          "activateDiagramType": 1,
          "chartConfig": {
            "category": "bar",
            "keys": [
              "prediction"
            ],
            "values": [
              "RUL"
            ],
            "yLabel": "RUL",
            "xLabel": "prediction",
            "aggregation": "SUM",
            "aggByBackend": false
          },
          "aggData": "{\"RUL\":{\"101.00344795107594\":92,\"103.51150282757953\":89,\"110.20045167088938\":93,\"110.59591982400707\":39,\"112.67179612113068\":74,\"117.91900647305192\":125,\"120.13791656547073\":51,\"121.06412341338\":44,\"123.53450127414544\":198,\"124.01538140753291\":133,\"125.09094497861224\":200,\"125.36331340895413\":156,\"126.18066795229788\":120,\"127.58070566150309\":38,\"127.8488817481848\":149,\"131.48163553677296\":88,\"135.82761665599355\":54,\"136.33016772702103\":79,\"136.61583593637988\":127,\"136.67207778533702\":16,\"138.5036064076594\":72,\"139.2949440069624\":221,\"140.49836978833264\":49,\"141.35434635255478\":102,\"141.618983838669\":186,\"141.82632607832966\":116,\"143.16194770529728\":122,\"145.2827312722584\":73,\"145.31349786066312\":135,\"145.60315318033645\":103,\"146.261682045797\":147,\"147.79988760363813\":167,\"148.1275240848463\":145,\"148.85121588854417\":85,\"149.27798547634666\":189,\"150.65624807343374\":120,\"151.15919531732652\":168,\"152.32204332344008\":169,\"153.52037836684394\":102,\"154.30204819740175\":225,\"154.81846785328344\":133,\"155.198044005856\":82,\"155.76774743061287\":176,\"155.9324770043204\":200,\"156.7514877015019\":216,\"157.34553047249392\":238,\"157.7338286527647\":28,\"158.155283428654\":117,\"158.99162457698003\":174,\"160.81771419268262\":224,\"161.74548414960555\":26,\"162.59591941580766\":181,\"162.64069742223364\":218,\"164.36139914854357\":203,\"165.82943069221437\":202,\"166.20989566801654\":179,\"166.55268710653763\":163,\"167.82566938187665\":153,\"168.02070743693548\":280,\"168.16255736273342\":254,\"170.36543679033275\":183,\"170.68412708594587\":157,\"171.04970774252433\":152,\"171.39575284199964\":201,\"171.75278051944224\":188,\"173.23262085534407\":132,\"175.3902344675007\":229,\"176.97777849126578\":142,\"177.02199834940257\":199,\"177.3804515523334\":210,\"178.0933158105763\":170,\"178.2456864374799\":154,\"178.25878437345636\":242,\"179.04346358047223\":171,\"180.2360009206368\":199,\"181.57710083473648\":220,\"181.59250521870308\":209,\"181.87350806044378\":223,\"182.21081440783746\":160,\"182.53180785803306\":187,\"182.54234124670984\":128,\"184.47830400113344\":242,\"185.8923425547382\":145,\"186.66059311293975\":249,\"188.24827979284964\":185,\"189.3278560913368\":237,\"190.515127525774\":287,\"191.95523562613198\":243,\"192.37579124496915\":203,\"192.47881154658717\":177,\"194.5863744477174\":213,\"195.58979349900255\":213,\"197.76925505129293\":238,\"198.3462638359524\":193,\"198.67861363773955\":154,\"200.18761145799726\":192,\"201.5608610035688\":242,\"202.50726603430303\":260,\"202.5335266274942\":182,\"204.05144311384538\":225,\"204.87552235745716\":323,\"205.61567802856007\":199,\"207.9513214105391\":281,\"208.0653330800087\":225,\"208.36761692211257\":223,\"208.9438984685712\":226,\"214.75693203759693\":199,\"216.1371177988658\":174,\"216.24382210109434\":286,\"219.36811767868858\":223,\"219.590445021473\":278,\"222.61221598618977\":202,\"222.94243982010812\":236,\"228.65723622138285\":218,\"230.16791560106685\":277,\"234.9489469389173\":187,\"235.51918055825445\":157,\"237.47584190624366\":249,\"239.22572084097555\":258,\"240.19095861566166\":215,\"248.09859395452622\":174,\"252.31137250120628\":178,\"261.3892031117248\":190,\"265.1839492023282\":231,\"268.13085964023776\":181,\"276.9364289695204\":272}}",
          "isSummary": false,
          "previewData": {
            "filter": null
          },
          "isSql": false
        }
      },
      "source": [
        "# View sample data\n",
        "display(prediction.select(\"features\",\"RUL\",\"prediction\"))"
      ],
      "attachments": {}
    },
    {
      "cell_type": "markdown",
      "metadata": {},
      "source": [
        "## Loading to SQL pool\n",
        "\n",
        "Loads the Spark table as an item and the latest RUL predicted values into SQL pool.\n",
        "\n",
        "The data can be easily loaded using the `sqlanalytics` API."
      ],
      "attachments": {}
    },
    {
      "cell_type": "code",
      "execution_count": 11,
      "outputs": [
        {
          "output_type": "execute_result",
          "execution_count": 11,
          "data": {
            "text/plain": "sqlDF: org.apache.spark.sql.DataFrame = [Cycle: bigint, DeviceId: string ... 9 more fields]"
          },
          "metadata": {}
        }
      ],
      "metadata": {},
      "source": [
        "%%spark\n",
        "val sqlDF = spark.sql(\"SELECT * FROM sensortablespark\")"
      ],
      "attachments": {}
    },
    {
      "cell_type": "code",
      "execution_count": 12,
      "outputs": [
        {
          "output_type": "execute_result",
          "execution_count": 12,
          "data": {
            "text/plain": "import org.apache.spark.sql.SqlAnalyticsConnector._\nimport com.microsoft.spark.sqlanalytics.utils.Constants\nsql_pool_name: String = aiaddw"
          },
          "metadata": {}
        }
      ],
      "metadata": {},
      "source": [
        "%%spark\n",
        "import org.apache.spark.sql.SqlAnalyticsConnector._\n",
        "import com.microsoft.spark.sqlanalytics.utils.Constants\n",
        "\n",
        "val sql_pool_name = \"aiaddw\" // SQL pool name\n",
        "// Load to SQL pool\n",
        "sqlDF.write.sqlanalytics(s\"$sql_pool_name.dbo.Sensor\", Constants.INTERNAL)"
      ],
      "attachments": {}
    },
    {
      "cell_type": "markdown",
      "metadata": {},
      "source": [
        "## View sensor average for the most recent date\n",
        ""
      ],
      "attachments": {}
    },
    {
      "cell_type": "code",
      "execution_count": 18,
      "outputs": [],
      "metadata": {},
      "source": [
        "aggdf = spark.sql(\"\"\"\n",
        "    SELECT\n",
        "        DeviceId,\n",
        "        date_pst,\n",
        "        round(avg(Sensor11),2) AS avgSensor11,\n",
        "        round(avg(Sensor14),2) AS avgSensor14,\n",
        "        round(avg(Sensor15),2) AS avgSensor15,\n",
        "        round(avg(Sensor9),2) AS avgSensor9\n",
        "    FROM \n",
        "        sensortablespark\n",
        "    WHERE\n",
        "        date_pst = (select max(date_pst) from sensortablespark)\n",
        "    GROUP BY \n",
        "        DeviceId,date_pst\n",
        "    \"\"\")"
      ],
      "attachments": {}
    },
    {
      "cell_type": "markdown",
      "metadata": {},
      "source": [
        "## Inferencing\n",
        ""
      ],
      "attachments": {}
    },
    {
      "cell_type": "code",
      "execution_count": 20,
      "outputs": [
        {
          "output_type": "execute_result",
          "execution_count": 20,
          "data": {
            "text/plain": "+---------+----------+-----------+-----------+-----------+----------+------------------+\n| DeviceId|  date_pst|avgSensor11|avgSensor14|avgSensor15|avgSensor9|               RUL|\n+---------+----------+-----------+-----------+-----------+----------+------------------+\n|N3172FJ-1|2020-04-30|      43.03|    8065.95|       9.28|   8524.81| 133.4481006445294|\n|N1172FJ-2|2020-04-30|      42.92|    8060.53|       9.38|   8505.68|149.81109618334267|\n|N2172FJ-1|2020-04-30|      42.99|     8066.1|       9.34|   8518.46|146.21431734565886|\n|N3172FJ-2|2020-04-30|      42.58|    8058.95|       9.36|   8491.88| 129.5227973768324|\n|N4172FJ-2|2020-04-30|      42.92|    8072.92|       9.27|   8530.38|129.95523756920375|\n|N1172FJ-1|2020-04-30|      43.07|    8071.34|       9.33|   8534.42|149.28672333252143|\n|N4172FJ-1|2020-04-30|      43.25|    8063.68|       9.29|   8539.14| 142.8275232075339|\n|N2172FJ-2|2020-04-30|      43.04|    8061.54|       9.35|   8517.79|147.80763470203237|\n+---------+----------+-----------+-----------+-----------+----------+------------------+"
          },
          "metadata": {}
        }
      ],
      "metadata": {},
      "source": [
        "# Pre-processing for inference\n",
        "vdf2 = vectorAssembler.transform(aggdf)\n",
        "\n",
        "# Scoring\n",
        "predictdf = model.transform(vdf2)\\\n",
        "    .drop(\"features\")\\\n",
        "    .withColumnRenamed(\"prediction\",\"RUL\")\n",
        "\n",
        "# Display sample\n",
        "predictdf.show()\n",
        "\n",
        "# Write to temp view so we can access from Scala\n",
        "predictdf.createOrReplaceTempView(\"tempPredict\") "
      ],
      "attachments": {}
    },
    {
      "cell_type": "markdown",
      "metadata": {},
      "source": [
        "## Loading to SQL pool (2)\n",
        ""
      ],
      "attachments": {}
    },
    {
      "cell_type": "code",
      "execution_count": 22,
      "outputs": [
        {
          "output_type": "execute_result",
          "execution_count": 22,
          "data": {
            "text/plain": "sql_pdf: org.apache.spark.sql.DataFrame = [DeviceId: string, date_pst: date ... 5 more fields]"
          },
          "metadata": {}
        }
      ],
      "metadata": {},
      "source": [
        "%%spark\n",
        "var sql_pdf = spark.sql(\"select * from tempPredict\")"
      ],
      "attachments": {}
    },
    {
      "cell_type": "code",
      "execution_count": 23,
      "outputs": [],
      "metadata": {},
      "source": [
        "%%spark\n",
        "// Load to SQL pool\n",
        "sql_pdf.write.sqlanalytics(s\"$sql_pool_name.dbo.PREDICT_SensorRUL\", Constants.INTERNAL)"
      ],
      "attachments": {}
    }
  ]
}