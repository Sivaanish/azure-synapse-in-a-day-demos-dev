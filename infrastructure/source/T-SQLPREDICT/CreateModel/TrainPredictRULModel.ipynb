{
  "metadata": {
    "saveOutput": true,
    "language_info": {
      "name": "python"
    }
  },
  "nbformat": 4,
  "nbformat_minor": 2,
  "cells": [
    {
      "cell_type": "markdown",
      "metadata": {},
      "source": [
        "## 学習に必要な列を抽出して集計\n",
        "ここではデバイスごとに各センサー平均値と**RUL**(耐用期間)の関係を作成します。"
      ],
      "attachments": {}
    },
    {
      "cell_type": "code",
      "execution_count": 16,
      "outputs": [
        {
          "output_type": "execute_result",
          "data": {
            "text/plain": "+---------+------+---+------------------+--------+--------+-------+\n| DeviceId|Period|RUL|          Sensor11|Sensor14|Sensor15|Sensor9|\n+---------+------+---+------------------+--------+--------+-------+\n|N1172FJ-2|    16|172|               0.0| 8121.61|    8.78|8782.62|\n|N3172FJ-1|     5|164|               0.0|  8079.9|    9.27|8748.87|\n|N1172FJ-1|    52|149|               0.0| 8122.38|    8.75| 8778.9|\n|N1172FJ-1|    35|134|               0.0| 8106.67|    8.72| 8764.4|\n|N3172FJ-1|    24|203|               0.0| 8068.05|    9.21|8728.73|\n|N4172FJ-1|     6|168|               0.0| 8101.64|    9.32|8338.59|\n|N1172FJ-1|    25|228|2.4906038810512774|  8105.7|    8.91| 8720.3|\n|N4172FJ-2|    15|177|               0.0| 8102.25|    9.43|8346.38|\n|N1172FJ-2|    46|277|               0.0| 8080.73|    9.47|8331.11|\n|N3172FJ-2|    48|242|               0.0| 8156.91|    9.37|8396.64|\n+---------+------+---+------------------+--------+--------+-------+\nonly showing top 10 rows"
          },
          "execution_count": 16,
          "metadata": {}
        }
      ],
      "metadata": {},
      "source": [
        "pydf = spark.sql(\"\"\"\n",
        "    SELECT\n",
        "        DeviceId,\n",
        "        Period,\n",
        "        max(Cycle) AS RUL,\n",
        "        round(avg(Sensor11),2) AS Sensor11,\n",
        "        round(avg(Sensor14),2) AS Sensor14,\n",
        "        round(avg(Sensor15),2) AS Sensor15,\n",
        "        round(avg(Sensor9),2) AS Sensor9\n",
        "    FROM \n",
        "        sensortablespark\n",
        "    WHERE\n",
        "        endofperiod = 1 \n",
        "    GROUP BY \n",
        "        DeviceId,\n",
        "        Period\n",
        "    \"\"\")\n",
        "pydf.show(10)"
      ],
      "attachments": {}
    },
    {
      "cell_type": "code",
      "execution_count": 13,
      "outputs": [
        {
          "output_type": "execute_result",
          "data": {
            "text/plain": "(436, 7)"
          },
          "execution_count": 13,
          "metadata": {}
        }
      ],
      "metadata": {},
      "source": [
        "# Shape\n",
        "print((pydf.count(), len(pydf.columns)))"
      ],
      "attachments": {}
    },
    {
      "cell_type": "markdown",
      "metadata": {},
      "source": [
        "## 特徴量変換\n",
        "ベクター形式に変換します"
      ],
      "attachments": {}
    },
    {
      "cell_type": "code",
      "execution_count": 18,
      "outputs": [],
      "metadata": {},
      "source": [
        "from pyspark.ml.feature import VectorAssembler\n",
        "from pyspark.ml.regression import LinearRegression\n",
        "# 特徴量変換\n",
        "# vectorAssembler = VectorAssembler(inputCols = ['Sensor11','Sensor14','Sensor15','Sensor9'], outputCol = 'features')\n",
        "# T-SQL PREDICT単純化のために特徴量削減ver\n",
        "vectorAssembler = VectorAssembler(inputCols = ['Sensor11'], outputCol = 'features')\n",
        "\n",
        "vdf = vectorAssembler.transform(pydf)"
      ],
      "attachments": {}
    },
    {
      "cell_type": "markdown",
      "metadata": {},
      "source": [
        "## データセット分割\n",
        ""
      ],
      "attachments": {}
    },
    {
      "cell_type": "code",
      "execution_count": 20,
      "outputs": [],
      "metadata": {},
      "source": [
        "trainingFraction = 0.7\n",
        "testingFraction = (1-trainingFraction)\n",
        "seed = 42\n",
        "\n",
        "# Split the dataframe into test and training dataframes\n",
        "df_train, df_test = vdf.randomSplit([trainingFraction, testingFraction], seed=seed)"
      ],
      "attachments": {}
    },
    {
      "cell_type": "markdown",
      "metadata": {},
      "source": [
        "## モデル学習\n",
        "線形回帰を利用しています。\n",
        "実運用には時系列データ用の適切なアルゴリズムを選定ください。"
      ],
      "attachments": {}
    },
    {
      "cell_type": "code",
      "execution_count": 21,
      "outputs": [
        {
          "output_type": "execute_result",
          "data": {
            "text/plain": "Coefficients: [33.57542095562193,0.7705913215264765,122.99461308737763,0.0852144001079971]\nIntercept: -7931.400028834169"
          },
          "execution_count": 21,
          "metadata": {}
        }
      ],
      "metadata": {},
      "source": [
        "# モデル作成\n",
        "lin_reg = LinearRegression(featuresCol = 'features', labelCol='RUL', maxIter = 10, regParam=0.3)\n",
        "model = lin_reg.fit(df_train)\n",
        "print(\"Coefficients: \" + str(model.coefficients))\n",
        "print(\"Intercept: \" + str(model.intercept))"
      ],
      "attachments": {}
    },
    {
      "cell_type": "markdown",
      "metadata": {},
      "source": [
        "## 推論結果の確認\n",
        ""
      ],
      "attachments": {}
    },
    {
      "cell_type": "code",
      "execution_count": 22,
      "outputs": [],
      "metadata": {},
      "source": [
        "# テストデータセットで推論実行\n",
        "prediction = model.transform(df_test)"
      ],
      "attachments": {}
    },
    {
      "cell_type": "code",
      "execution_count": 23,
      "outputs": [
        {
          "output_type": "execute_result",
          "data": {
            "application/json": {
              "table": {
                "rows": [
                  {
                    "DeviceId": "N3172FJ-1",
                    "Period": 24,
                    "RUL": 203,
                    "Sensor11": 0,
                    "Sensor14": 8068.05,
                    "Sensor15": 9.21,
                    "Sensor9": 8728.73,
                    "features": {
                      "type": 1,
                      "values": [
                        0,
                        8068.05,
                        9.21,
                        8728.73
                      ]
                    },
                    "prediction": 162.3631599969449
                  },
                  {
                    "DeviceId": "N4172FJ-2",
                    "Period": 15,
                    "RUL": 177,
                    "Sensor11": 0,
                    "Sensor14": 8102.25,
                    "Sensor15": 9.43,
                    "Sensor9": 8346.38,
                    "features": {
                      "type": 1,
                      "values": [
                        0,
                        8102.25,
                        9.43,
                        8346.38
                      ]
                    },
                    "prediction": 183.19447219108042
                  },
                  {
                    "DeviceId": "N2172FJ-1",
                    "Period": 28,
                    "RUL": 242,
                    "Sensor11": 0,
                    "Sensor14": 8145.53,
                    "Sensor15": 8.76,
                    "Sensor9": 8803.21,
                    "features": {
                      "type": 1,
                      "values": [
                        0,
                        8145.53,
                        8.76,
                        8803.21
                      ]
                    },
                    "prediction": 173.06776821954008
                  },
                  {
                    "DeviceId": "N3172FJ-2",
                    "Period": 48,
                    "RUL": 242,
                    "Sensor11": 0,
                    "Sensor14": 8156.91,
                    "Sensor15": 9.37,
                    "Sensor9": 8396.64,
                    "features": {
                      "type": 1,
                      "values": [
                        0,
                        8156.91,
                        9.37,
                        8396.64
                      ]
                    },
                    "prediction": 222.2181927899028
                  },
                  {
                    "DeviceId": "N4172FJ-1",
                    "Period": 30,
                    "RUL": 142,
                    "Sensor11": 0,
                    "Sensor14": 8113.82,
                    "Sensor15": 9.38,
                    "Sensor9": 8353.92,
                    "features": {
                      "type": 1,
                      "values": [
                        0,
                        8113.82,
                        9.38,
                        8353.92
                      ]
                    },
                    "prediction": 186.60299970358847
                  },
                  {
                    "DeviceId": "N1172FJ-2",
                    "Period": 34,
                    "RUL": 286,
                    "Sensor11": 0,
                    "Sensor14": 8145.75,
                    "Sensor15": 9.41,
                    "Sensor9": 8391.1,
                    "features": {
                      "type": 1,
                      "values": [
                        0,
                        8145.75,
                        9.41,
                        8391.1
                      ]
                    },
                    "prediction": 218.0660903885646
                  },
                  {
                    "DeviceId": "N4172FJ-1",
                    "Period": 43,
                    "RUL": 189,
                    "Sensor11": 0,
                    "Sensor14": 8152.79,
                    "Sensor15": 8.45,
                    "Sensor9": 9082.44,
                    "features": {
                      "type": 1,
                      "values": [
                        0,
                        8152.79,
                        8.45,
                        9082.44
                      ]
                    },
                    "prediction": 164.3283480988921
                  },
                  {
                    "DeviceId": "N2172FJ-1",
                    "Period": 36,
                    "RUL": 157,
                    "Sensor11": 0,
                    "Sensor14": 8150.38,
                    "Sensor15": 9.44,
                    "Sensor9": 8398.68,
                    "features": {
                      "type": 1,
                      "values": [
                        0,
                        8150.38,
                        9.44,
                        8398.68
                      ]
                    },
                    "prediction": 225.9696917526726
                  },
                  {
                    "DeviceId": "N4172FJ-1",
                    "Period": 15,
                    "RUL": 102,
                    "Sensor11": 0,
                    "Sensor14": 8068.13,
                    "Sensor15": 9.39,
                    "Sensor9": 8307.51,
                    "features": {
                      "type": 1,
                      "values": [
                        0,
                        8068.13,
                        9.39,
                        8307.51
                      ]
                    },
                    "prediction": 148.66982804490544
                  },
                  {
                    "DeviceId": "N2172FJ-2",
                    "Period": 35,
                    "RUL": 215,
                    "Sensor11": 0,
                    "Sensor14": 8171.2,
                    "Sensor15": 9.39,
                    "Sensor9": 8423.37,
                    "features": {
                      "type": 1,
                      "values": [
                        0,
                        8171.2,
                        9.39,
                        8423.37
                      ]
                    },
                    "prediction": 237.96761595115186
                  },
                  {
                    "DeviceId": "N3172FJ-2",
                    "Period": 30,
                    "RUL": 156,
                    "Sensor11": 0,
                    "Sensor14": 8120.26,
                    "Sensor15": 8.68,
                    "Sensor9": 8765.97,
                    "features": {
                      "type": 1,
                      "values": [
                        0,
                        8120.26,
                        8.68,
                        8765.97
                      ]
                    },
                    "prediction": 140.58197221755472
                  },
                  {
                    "DeviceId": "N3172FJ-1",
                    "Period": 31,
                    "RUL": 51,
                    "Sensor11": 0,
                    "Sensor14": 8113.52,
                    "Sensor15": 8.68,
                    "Sensor9": 8765.86,
                    "features": {
                      "type": 1,
                      "values": [
                        0,
                        8113.52,
                        8.68,
                        8765.86
                      ]
                    },
                    "prediction": 135.3788131264546
                  },
                  {
                    "DeviceId": "N2172FJ-1",
                    "Period": 4,
                    "RUL": 160,
                    "Sensor11": 0,
                    "Sensor14": 8137.74,
                    "Sensor15": 8.77,
                    "Sensor9": 8796.46,
                    "features": {
                      "type": 1,
                      "values": [
                        0,
                        8137.74,
                        8.77,
                        8796.46
                      ]
                    },
                    "prediction": 167.71961075499348
                  },
                  {
                    "DeviceId": "N3172FJ-1",
                    "Period": 26,
                    "RUL": 88,
                    "Sensor11": 0,
                    "Sensor14": 8129.15,
                    "Sensor15": 8.44,
                    "Sensor9": 9042.71,
                    "features": {
                      "type": 1,
                      "values": [
                        0,
                        8129.15,
                        8.44,
                        9042.71
                      ]
                    },
                    "prediction": 141.4960550108408
                  },
                  {
                    "DeviceId": "N1172FJ-1",
                    "Period": 41,
                    "RUL": 209,
                    "Sensor11": 0,
                    "Sensor14": 8139.22,
                    "Sensor15": 8.76,
                    "Sensor9": 8795.47,
                    "features": {
                      "type": 1,
                      "values": [
                        0,
                        8139.22,
                        8.76,
                        8795.47
                      ]
                    },
                    "prediction": 167.54577752387286
                  },
                  {
                    "DeviceId": "N1172FJ-2",
                    "Period": 28,
                    "RUL": 278,
                    "Sensor11": 0,
                    "Sensor14": 8142.26,
                    "Sensor15": 9.43,
                    "Sensor9": 8396.18,
                    "features": {
                      "type": 1,
                      "values": [
                        0,
                        8142.26,
                        9.43,
                        8396.18
                      ]
                    },
                    "prediction": 218.26950809073423
                  },
                  {
                    "DeviceId": "N2172FJ-2",
                    "Period": 31,
                    "RUL": 181,
                    "Sensor11": 0,
                    "Sensor14": 8220.82,
                    "Sensor15": 9.4,
                    "Sensor9": 8459.05,
                    "features": {
                      "type": 1,
                      "values": [
                        0,
                        8220.82,
                        9.4,
                        8459.05
                      ]
                    },
                    "prediction": 280.4747532520214
                  },
                  {
                    "DeviceId": "N2172FJ-2",
                    "Period": 16,
                    "RUL": 254,
                    "Sensor11": 0,
                    "Sensor14": 7857.06,
                    "Sensor15": 10.98,
                    "Sensor9": 7995.54,
                    "features": {
                      "type": 1,
                      "values": [
                        0,
                        7857.06,
                        10.98,
                        7995.54
                      ]
                    },
                    "prediction": 154.99821621755018
                  },
                  {
                    "DeviceId": "N1172FJ-1",
                    "Period": 23,
                    "RUL": 128,
                    "Sensor11": 0,
                    "Sensor14": 8119.5,
                    "Sensor15": 8.54,
                    "Sensor9": 9049.62,
                    "features": {
                      "type": 1,
                      "values": [
                        0,
                        8119.5,
                        8.54,
                        9049.62
                      ]
                    },
                    "prediction": 146.94814157159453
                  },
                  {
                    "DeviceId": "N4172FJ-1",
                    "Period": 37,
                    "RUL": 103,
                    "Sensor11": 0,
                    "Sensor14": 8072.11,
                    "Sensor15": 9.39,
                    "Sensor9": 8356.42,
                    "features": {
                      "type": 1,
                      "values": [
                        0,
                        8072.11,
                        9.39,
                        8356.42
                      ]
                    },
                    "prediction": 155.90461781386148
                  },
                  {
                    "DeviceId": "N2172FJ-2",
                    "Period": 40,
                    "RUL": 323,
                    "Sensor11": 0,
                    "Sensor14": 8112.16,
                    "Sensor15": 9.42,
                    "Sensor9": 8357.44,
                    "features": {
                      "type": 1,
                      "values": [
                        0,
                        8112.16,
                        9.42,
                        8357.44
                      ]
                    },
                    "prediction": 190.54355732172917
                  },
                  {
                    "DeviceId": "N1172FJ-2",
                    "Period": 25,
                    "RUL": 281,
                    "Sensor11": 0.1664100588675684,
                    "Sensor14": 8082.5,
                    "Sensor15": 9.5,
                    "Sensor9": 8324.81,
                    "features": {
                      "type": 1,
                      "values": [
                        0.1664100588675684,
                        8082.5,
                        9.5,
                        8324.81
                      ]
                    },
                    "prediction": 180.33412967444838
                  },
                  {
                    "DeviceId": "N2172FJ-1",
                    "Period": 10,
                    "RUL": 258,
                    "Sensor11": 0.024053511772117647,
                    "Sensor14": 8183.24,
                    "Sensor15": 9.41,
                    "Sensor9": 8425.69,
                    "features": {
                      "type": 1,
                      "values": [
                        0.024053511772117647,
                        8183.24,
                        9.41,
                        8425.69
                      ]
                    },
                    "prediction": 250.71073191553842
                  },
                  {
                    "DeviceId": "N3172FJ-1",
                    "Period": 48,
                    "RUL": 187,
                    "Sensor11": 0,
                    "Sensor14": 8047.13,
                    "Sensor15": 9.29,
                    "Sensor9": 8717.88,
                    "features": {
                      "type": 1,
                      "values": [
                        0,
                        8047.13,
                        9.29,
                        8717.88
                      ]
                    },
                    "prediction": 155.1573823564304
                  },
                  {
                    "DeviceId": "N4172FJ-1",
                    "Period": 36,
                    "RUL": 120,
                    "Sensor11": 0,
                    "Sensor14": 8068.33,
                    "Sensor15": 9.34,
                    "Sensor9": 8359.74,
                    "features": {
                      "type": 1,
                      "values": [
                        0,
                        8068.33,
                        9.34,
                        8359.74
                      ]
                    },
                    "prediction": 147.12496377248226
                  },
                  {
                    "DeviceId": "N4172FJ-1",
                    "Period": 46,
                    "RUL": 188,
                    "Sensor11": 0,
                    "Sensor14": 8179.97,
                    "Sensor15": 8.48,
                    "Sensor9": 9111.44,
                    "features": {
                      "type": 1,
                      "values": [
                        0,
                        8179.97,
                        8.48,
                        9111.44
                      ]
                    },
                    "prediction": 191.43407621373535
                  },
                  {
                    "DeviceId": "N3172FJ-2",
                    "Period": 8,
                    "RUL": 287,
                    "Sensor11": 0,
                    "Sensor14": 8056.54,
                    "Sensor15": 9.3,
                    "Sensor9": 8717.66,
                    "features": {
                      "type": 1,
                      "values": [
                        0,
                        8056.54,
                        9.3,
                        8717.66
                      ]
                    },
                    "prediction": 163.61984565484454
                  },
                  {
                    "DeviceId": "N4172FJ-1",
                    "Period": 5,
                    "RUL": 73,
                    "Sensor11": 0,
                    "Sensor14": 8080.53,
                    "Sensor15": 9.36,
                    "Sensor9": 8320.76,
                    "features": {
                      "type": 1,
                      "values": [
                        0,
                        8080.53,
                        9.36,
                        8320.76
                      ]
                    },
                    "prediction": 155.6644128406433
                  },
                  {
                    "DeviceId": "N4172FJ-2",
                    "Period": 24,
                    "RUL": 26,
                    "Sensor11": 0,
                    "Sensor14": 8052.47,
                    "Sensor15": 9.23,
                    "Sensor9": 8715.41,
                    "features": {
                      "type": 1,
                      "values": [
                        0,
                        8052.47,
                        9.23,
                        8715.41
                      ]
                    },
                    "prediction": 151.68218365987286
                  },
                  {
                    "DeviceId": "N2172FJ-2",
                    "Period": 5,
                    "RUL": 226,
                    "Sensor11": 0,
                    "Sensor14": 8131.41,
                    "Sensor15": 9.43,
                    "Sensor9": 8377.87,
                    "features": {
                      "type": 1,
                      "values": [
                        0,
                        8131.41,
                        9.43,
                        8377.87
                      ]
                    },
                    "prediction": 208.34831658619441
                  },
                  {
                    "DeviceId": "N4172FJ-1",
                    "Period": 16,
                    "RUL": 185,
                    "Sensor11": 0,
                    "Sensor14": 8090.59,
                    "Sensor15": 9.45,
                    "Sensor9": 8333.1,
                    "features": {
                      "type": 1,
                      "values": [
                        0,
                        8090.59,
                        9.45,
                        8333.1
                      ]
                    },
                    "prediction": 175.53762241039658
                  },
                  {
                    "DeviceId": "N4172FJ-1",
                    "Period": 23,
                    "RUL": 117,
                    "Sensor11": 0,
                    "Sensor14": 8071.08,
                    "Sensor15": 9.21,
                    "Sensor9": 8729.31,
                    "features": {
                      "type": 1,
                      "values": [
                        0,
                        8071.08,
                        9.21,
                        8729.31
                      ]
                    },
                    "prediction": 164.74747605323319
                  },
                  {
                    "DeviceId": "N4172FJ-1",
                    "Period": 19,
                    "RUL": 85,
                    "Sensor11": 0,
                    "Sensor14": 8079.72,
                    "Sensor15": 9.38,
                    "Sensor9": 8327.35,
                    "features": {
                      "type": 1,
                      "values": [
                        0,
                        8079.72,
                        9.38,
                        8327.35
                      ]
                    },
                    "prediction": 158.06168902866557
                  },
                  {
                    "DeviceId": "N4172FJ-2",
                    "Period": 41,
                    "RUL": 238,
                    "Sensor11": 0,
                    "Sensor14": 8103.37,
                    "Sensor15": 9.36,
                    "Sensor9": 8346.31,
                    "features": {
                      "type": 1,
                      "values": [
                        0,
                        8103.37,
                        9.36,
                        8346.31
                      ]
                    },
                    "prediction": 175.44194654706644
                  },
                  {
                    "DeviceId": "N2172FJ-2",
                    "Period": 39,
                    "RUL": 231,
                    "Sensor11": 0,
                    "Sensor14": 8234.14,
                    "Sensor15": 9.37,
                    "Sensor9": 8484.43,
                    "features": {
                      "type": 1,
                      "values": [
                        0,
                        8234.14,
                        9.37,
                        8484.43
                      ]
                    },
                    "prediction": 289.2119327368746
                  },
                  {
                    "DeviceId": "N3172FJ-2",
                    "Period": 53,
                    "RUL": 167,
                    "Sensor11": 0,
                    "Sensor14": 8106.19,
                    "Sensor15": 9.32,
                    "Sensor9": 8342.53,
                    "features": {
                      "type": 1,
                      "values": [
                        0,
                        8106.19,
                        9.32,
                        8342.53
                      ]
                    },
                    "prediction": 172.37311911786855
                  },
                  {
                    "DeviceId": "N2172FJ-1",
                    "Period": 38,
                    "RUL": 192,
                    "Sensor11": 0,
                    "Sensor14": 7875.33,
                    "Sensor15": 11.02,
                    "Sensor9": 8011.03,
                    "features": {
                      "type": 1,
                      "values": [
                        0,
                        7875.33,
                        11.02,
                        8011.03
                      ]
                    },
                    "prediction": 175.316675243007
                  },
                  {
                    "DeviceId": "N2172FJ-1",
                    "Period": 47,
                    "RUL": 199,
                    "Sensor11": 0,
                    "Sensor14": 8092.1,
                    "Sensor15": 9.47,
                    "Sensor9": 8347.25,
                    "features": {
                      "type": 1,
                      "values": [
                        0,
                        8092.1,
                        9.47,
                        8347.25
                      ]
                    },
                    "prediction": 180.36689132917672
                  },
                  {
                    "DeviceId": "N4172FJ-2",
                    "Period": 8,
                    "RUL": 102,
                    "Sensor11": 0,
                    "Sensor14": 8083.13,
                    "Sensor15": 9.38,
                    "Sensor9": 8318.09,
                    "features": {
                      "type": 1,
                      "values": [
                        0,
                        8083.13,
                        9.38,
                        8318.09
                      ]
                    },
                    "prediction": 159.90032009007064
                  },
                  {
                    "DeviceId": "N1172FJ-1",
                    "Period": 36,
                    "RUL": 225,
                    "Sensor11": 0,
                    "Sensor14": 8141.65,
                    "Sensor15": 9.43,
                    "Sensor9": 8433.91,
                    "features": {
                      "type": 1,
                      "values": [
                        0,
                        8141.65,
                        9.43,
                        8433.91
                      ]
                    },
                    "prediction": 221.01458670067677
                  },
                  {
                    "DeviceId": "N2172FJ-1",
                    "Period": 29,
                    "RUL": 152,
                    "Sensor11": 0,
                    "Sensor14": 8042.06,
                    "Sensor15": 9.44,
                    "Sensor9": 8333.95,
                    "features": {
                      "type": 1,
                      "values": [
                        0,
                        8042.06,
                        9.44,
                        8333.95
                      ]
                    },
                    "prediction": 136.9833116859345
                  },
                  {
                    "DeviceId": "N2172FJ-2",
                    "Period": 52,
                    "RUL": 174,
                    "Sensor11": 0,
                    "Sensor14": 8116.62,
                    "Sensor15": 8.73,
                    "Sensor9": 8776.6,
                    "features": {
                      "type": 1,
                      "values": [
                        0,
                        8116.62,
                        8.73,
                        8776.6
                      ]
                    },
                    "prediction": 144.83257953471457
                  },
                  {
                    "DeviceId": "N1172FJ-1",
                    "Period": 29,
                    "RUL": 223,
                    "Sensor11": 0,
                    "Sensor14": 8157.74,
                    "Sensor15": 9.41,
                    "Sensor9": 8404.95,
                    "features": {
                      "type": 1,
                      "values": [
                        0,
                        8157.74,
                        9.41,
                        8404.95
                      ]
                    },
                    "prediction": 228.48569977516308
                  },
                  {
                    "DeviceId": "N3172FJ-2",
                    "Period": 24,
                    "RUL": 16,
                    "Sensor11": 0,
                    "Sensor14": 8134.95,
                    "Sensor15": 8.45,
                    "Sensor9": 9054.71,
                    "features": {
                      "type": 1,
                      "values": [
                        0,
                        8134.95,
                        8.45,
                        9054.71
                      ]
                    },
                    "prediction": 148.21800360786438
                  },
                  {
                    "DeviceId": "N3172FJ-2",
                    "Period": 19,
                    "RUL": 145,
                    "Sensor11": 0,
                    "Sensor14": 8092.88,
                    "Sensor15": 9.36,
                    "Sensor9": 8334.95,
                    "features": {
                      "type": 1,
                      "values": [
                        0,
                        8092.88,
                        9.36,
                        8334.95
                      ]
                    },
                    "prediction": 166.39040799902796
                  },
                  {
                    "DeviceId": "N4172FJ-2",
                    "Period": 1,
                    "RUL": 89,
                    "Sensor11": 0,
                    "Sensor14": 8061.22,
                    "Sensor15": 9.31,
                    "Sensor9": 8350.01,
                    "features": {
                      "type": 1,
                      "values": [
                        0,
                        8061.22,
                        9.31,
                        8350.01
                      ]
                    },
                    "prediction": 137.1270849707562
                  },
                  {
                    "DeviceId": "N2172FJ-2",
                    "Period": 15,
                    "RUL": 237,
                    "Sensor11": 0,
                    "Sensor14": 8151.7,
                    "Sensor15": 8.79,
                    "Sensor9": 8807.01,
                    "features": {
                      "type": 1,
                      "values": [
                        0,
                        8151.7,
                        8.79,
                        8807.01
                      ]
                    },
                    "prediction": 181.8359697863907
                  },
                  {
                    "DeviceId": "N4172FJ-1",
                    "Period": 1,
                    "RUL": 220,
                    "Sensor11": 0,
                    "Sensor14": 8091.62,
                    "Sensor15": 9.42,
                    "Sensor9": 8329.99,
                    "features": {
                      "type": 1,
                      "values": [
                        0,
                        8091.62,
                        9.42,
                        8329.99
                      ]
                    },
                    "prediction": 172.37647629461117
                  },
                  {
                    "DeviceId": "N1172FJ-1",
                    "Period": 8,
                    "RUL": 229,
                    "Sensor11": 0,
                    "Sensor14": 8129.14,
                    "Sensor15": 8.77,
                    "Sensor9": 8784.44,
                    "features": {
                      "type": 1,
                      "values": [
                        0,
                        8129.14,
                        8.77,
                        8784.44
                      ]
                    },
                    "prediction": 160.06824830056848
                  },
                  {
                    "DeviceId": "N1172FJ-1",
                    "Period": 14,
                    "RUL": 145,
                    "Sensor11": 0,
                    "Sensor14": 8068.36,
                    "Sensor15": 9.46,
                    "Sensor9": 8313.19,
                    "features": {
                      "type": 1,
                      "values": [
                        0,
                        8068.36,
                        9.46,
                        8313.19
                      ]
                    },
                    "prediction": 157.940704757586
                  },
                  {
                    "DeviceId": "N4172FJ-2",
                    "Period": 29,
                    "RUL": 186,
                    "Sensor11": 0,
                    "Sensor14": 8145.26,
                    "Sensor15": 8.71,
                    "Sensor9": 8804.14,
                    "features": {
                      "type": 1,
                      "values": [
                        0,
                        8145.26,
                        8.71,
                        8804.14
                      ]
                    },
                    "prediction": 166.78922730045997
                  },
                  {
                    "DeviceId": "N3172FJ-2",
                    "Period": 46,
                    "RUL": 120,
                    "Sensor11": 0,
                    "Sensor14": 7869.95,
                    "Sensor15": 10.92,
                    "Sensor9": 8014.71,
                    "features": {
                      "type": 1,
                      "values": [
                        0,
                        7869.95,
                        10.92,
                        8014.71
                      ]
                    },
                    "prediction": 159.1850216168532
                  },
                  {
                    "DeviceId": "N3172FJ-2",
                    "Period": 50,
                    "RUL": 179,
                    "Sensor11": 0,
                    "Sensor14": 8083.42,
                    "Sensor15": 9.4,
                    "Sensor9": 8317.12,
                    "features": {
                      "type": 1,
                      "values": [
                        0,
                        8083.42,
                        9.4,
                        8317.12
                      ]
                    },
                    "prediction": 162.5010258669563
                  },
                  {
                    "DeviceId": "N1172FJ-1",
                    "Period": 20,
                    "RUL": 249,
                    "Sensor11": 0,
                    "Sensor14": 7857.85,
                    "Sensor15": 11.02,
                    "Sensor9": 7995.21,
                    "features": {
                      "type": 1,
                      "values": [
                        0,
                        7857.85,
                        11.02,
                        7995.21
                      ]
                    },
                    "prediction": 160.49864713301668
                  },
                  {
                    "DeviceId": "N4172FJ-2",
                    "Period": 34,
                    "RUL": 168,
                    "Sensor11": 0,
                    "Sensor14": 8075.12,
                    "Sensor15": 9.37,
                    "Sensor9": 8312.96,
                    "features": {
                      "type": 1,
                      "values": [
                        0,
                        8075.12,
                        9.37,
                        8312.96
                      ]
                    },
                    "prediction": 152.06078760121545
                  },
                  {
                    "DeviceId": "N2172FJ-1",
                    "Period": 31,
                    "RUL": 176,
                    "Sensor11": 0,
                    "Sensor14": 8107.17,
                    "Sensor15": 8.76,
                    "Sensor9": 8766.25,
                    "features": {
                      "type": 1,
                      "values": [
                        0,
                        8107.17,
                        8.76,
                        8766.25
                      ]
                    },
                    "prediction": 140.35836089779332
                  },
                  {
                    "DeviceId": "N1172FJ-1",
                    "Period": 11,
                    "RUL": 154,
                    "Sensor11": 0,
                    "Sensor14": 8068.55,
                    "Sensor15": 9.49,
                    "Sensor9": 8309.99,
                    "features": {
                      "type": 1,
                      "values": [
                        0,
                        8068.55,
                        9.49,
                        8309.99
                      ]
                    },
                    "prediction": 161.50426942095146
                  },
                  {
                    "DeviceId": "N3172FJ-2",
                    "Period": 4,
                    "RUL": 74,
                    "Sensor11": 0,
                    "Sensor14": 8118.94,
                    "Sensor15": 8.65,
                    "Sensor9": 8766.26,
                    "features": {
                      "type": 1,
                      "values": [
                        0,
                        8118.94,
                        8.65,
                        8766.26
                      ]
                    },
                    "prediction": 135.89966545654897
                  },
                  {
                    "DeviceId": "N1172FJ-1",
                    "Period": 54,
                    "RUL": 200,
                    "Sensor11": 0,
                    "Sensor14": 8065.03,
                    "Sensor15": 9.4,
                    "Sensor9": 8353.55,
                    "features": {
                      "type": 1,
                      "values": [
                        0,
                        8065.03,
                        9.4,
                        8353.55
                      ]
                    },
                    "prediction": 151.4342120600195
                  },
                  {
                    "DeviceId": "N4172FJ-2",
                    "Period": 52,
                    "RUL": 200,
                    "Sensor11": 0,
                    "Sensor14": 8121.33,
                    "Sensor15": 8.68,
                    "Sensor9": 8769.85,
                    "features": {
                      "type": 1,
                      "values": [
                        0,
                        8121.33,
                        8.68,
                        8769.85
                      ]
                    },
                    "prediction": 141.7371368040067
                  },
                  {
                    "DeviceId": "N1172FJ-1",
                    "Period": 24,
                    "RUL": 174,
                    "Sensor11": 0,
                    "Sensor14": 8204.9,
                    "Sensor15": 9.38,
                    "Sensor9": 8454.52,
                    "features": {
                      "type": 1,
                      "values": [
                        0,
                        8204.9,
                        9.38,
                        8454.52
                      ]
                    },
                    "prediction": 265.36102591908457
                  },
                  {
                    "DeviceId": "N3172FJ-1",
                    "Period": 19,
                    "RUL": 132,
                    "Sensor11": 0,
                    "Sensor14": 8072.34,
                    "Sensor15": 9.43,
                    "Sensor9": 8319.15,
                    "features": {
                      "type": 1,
                      "values": [
                        0,
                        8072.34,
                        9.43,
                        8319.15
                      ]
                    },
                    "prediction": 157.82569764928394
                  },
                  {
                    "DeviceId": "N2172FJ-1",
                    "Period": 25,
                    "RUL": 236,
                    "Sensor11": 0.08043152845265959,
                    "Sensor14": 8156.36,
                    "Sensor15": 9.39,
                    "Sensor9": 8413.6,
                    "features": {
                      "type": 1,
                      "values": [
                        0.08043152845265959,
                        8156.36,
                        9.39,
                        8413.6
                      ]
                    },
                    "prediction": 228.40001847654457
                  },
                  {
                    "DeviceId": "N2172FJ-2",
                    "Period": 25,
                    "RUL": 199,
                    "Sensor11": 0,
                    "Sensor14": 7860.58,
                    "Sensor15": 11,
                    "Sensor9": 7996.55,
                    "features": {
                      "type": 1,
                      "values": [
                        0,
                        7860.58,
                        11,
                        7996.55
                      ]
                    },
                    "prediction": 160.25665647517962
                  },
                  {
                    "DeviceId": "N3172FJ-1",
                    "Period": 17,
                    "RUL": 153,
                    "Sensor11": 0,
                    "Sensor14": 8066.88,
                    "Sensor15": 9.26,
                    "Sensor9": 8727.67,
                    "features": {
                      "type": 1,
                      "values": [
                        0,
                        8066.88,
                        9.26,
                        8727.67
                      ]
                    },
                    "prediction": 167.52097154101375
                  },
                  {
                    "DeviceId": "N2172FJ-2",
                    "Period": 45,
                    "RUL": 213,
                    "Sensor11": 0,
                    "Sensor14": 8091.35,
                    "Sensor15": 9.44,
                    "Sensor9": 8330.64,
                    "features": {
                      "type": 1,
                      "values": [
                        0,
                        8091.35,
                        9.44,
                        8330.64
                      ]
                    },
                    "prediction": 174.6836982596169
                  },
                  {
                    "DeviceId": "N3172FJ-2",
                    "Period": 26,
                    "RUL": 79,
                    "Sensor11": 0,
                    "Sensor14": 8133.33,
                    "Sensor15": 8.69,
                    "Sensor9": 8776.81,
                    "features": {
                      "type": 1,
                      "values": [
                        0,
                        8133.33,
                        8.69,
                        8776.81
                      ]
                    },
                    "prediction": 152.80727101794946
                  },
                  {
                    "DeviceId": "N2172FJ-2",
                    "Period": 34,
                    "RUL": 277,
                    "Sensor11": 0,
                    "Sensor14": 8125.64,
                    "Sensor15": 9.48,
                    "Sensor9": 8363.55,
                    "features": {
                      "type": 1,
                      "values": [
                        0,
                        8125.64,
                        9.48,
                        8363.55
                      ]
                    },
                    "prediction": 208.831465105809
                  },
                  {
                    "DeviceId": "N2172FJ-2",
                    "Period": 37,
                    "RUL": 272,
                    "Sensor11": 0,
                    "Sensor14": 8200.43,
                    "Sensor15": 9.33,
                    "Sensor9": 8881.97,
                    "features": {
                      "type": 1,
                      "values": [
                        0,
                        8200.43,
                        9.33,
                        8881.97
                      ]
                    },
                    "prediction": 292.19164738365544
                  },
                  {
                    "DeviceId": "N4172FJ-2",
                    "Period": 27,
                    "RUL": 280,
                    "Sensor11": 0,
                    "Sensor14": 8095.98,
                    "Sensor15": 9.38,
                    "Sensor9": 8387.15,
                    "features": {
                      "type": 1,
                      "values": [
                        0,
                        8095.98,
                        9.38,
                        8387.15
                      ]
                    },
                    "prediction": 175.68732504314357
                  },
                  {
                    "DeviceId": "N2172FJ-2",
                    "Period": 13,
                    "RUL": 170,
                    "Sensor11": 0,
                    "Sensor14": 8145.66,
                    "Sensor15": 8.74,
                    "Sensor9": 8802.92,
                    "features": {
                      "type": 1,
                      "values": [
                        0,
                        8145.66,
                        8.74,
                        8802.92
                      ]
                    },
                    "prediction": 170.68334065356066
                  },
                  {
                    "DeviceId": "N2172FJ-1",
                    "Period": 43,
                    "RUL": 174,
                    "Sensor11": 0,
                    "Sensor14": 8083.44,
                    "Sensor15": 9.49,
                    "Sensor9": 8326.34,
                    "features": {
                      "type": 1,
                      "values": [
                        0,
                        8083.44,
                        9.49,
                        8326.34
                      ]
                    },
                    "prediction": 174.37162964024537
                  },
                  {
                    "DeviceId": "N4172FJ-2",
                    "Period": 20,
                    "RUL": 133,
                    "Sensor11": 0,
                    "Sensor14": 8096.6,
                    "Sensor15": 9.38,
                    "Sensor9": 8338.58,
                    "features": {
                      "type": 1,
                      "values": [
                        0,
                        8096.6,
                        9.38,
                        8338.58
                      ]
                    },
                    "prediction": 172.02622824924492
                  },
                  {
                    "DeviceId": "N3172FJ-1",
                    "Period": 51,
                    "RUL": 127,
                    "Sensor11": 0,
                    "Sensor14": 8092.34,
                    "Sensor15": 9.31,
                    "Sensor9": 8385.06,
                    "features": {
                      "type": 1,
                      "values": [
                        0,
                        8092.34,
                        9.31,
                        8385.06
                      ]
                    },
                    "prediction": 164.0946516204449
                  },
                  {
                    "DeviceId": "N2172FJ-2",
                    "Period": 12,
                    "RUL": 242,
                    "Sensor11": 0,
                    "Sensor14": 8141.71,
                    "Sensor15": 8.75,
                    "Sensor9": 8801.23,
                    "features": {
                      "type": 1,
                      "values": [
                        0,
                        8141.71,
                        8.75,
                        8801.23
                      ]
                    },
                    "prediction": 168.7254387282228
                  },
                  {
                    "DeviceId": "N2172FJ-2",
                    "Period": 47,
                    "RUL": 171,
                    "Sensor11": 5.39386945039539e-15,
                    "Sensor14": 8113.18,
                    "Sensor15": 8.54,
                    "Sensor9": 9049.71,
                    "features": {
                      "type": 1,
                      "values": [
                        5.39386945039539e-15,
                        8113.18,
                        8.54,
                        9049.71
                      ]
                    },
                    "prediction": 142.08567371555728
                  },
                  {
                    "DeviceId": "N1172FJ-1",
                    "Period": 1,
                    "RUL": 249,
                    "Sensor11": 0,
                    "Sensor14": 8185.87,
                    "Sensor15": 9.4,
                    "Sensor9": 8432.37,
                    "features": {
                      "type": 1,
                      "values": [
                        0,
                        8185.87,
                        9.4,
                        8432.37
                      ]
                    },
                    "prediction": 251.26906636979038
                  },
                  {
                    "DeviceId": "N1172FJ-2",
                    "Period": 20,
                    "RUL": 154,
                    "Sensor11": 0,
                    "Sensor14": 8112.46,
                    "Sensor15": 8.52,
                    "Sensor9": 9032.94,
                    "features": {
                      "type": 1,
                      "values": [
                        0,
                        8112.46,
                        8.52,
                        9032.94
                      ]
                    },
                    "prediction": 137.64191021250008
                  },
                  {
                    "DeviceId": "N3172FJ-2",
                    "Period": 28,
                    "RUL": 39,
                    "Sensor11": 0,
                    "Sensor14": 8066.39,
                    "Sensor15": 9.3,
                    "Sensor9": 8343.82,
                    "features": {
                      "type": 1,
                      "values": [
                        0,
                        8066.39,
                        9.3,
                        8343.82
                      ]
                    },
                    "prediction": 139.3536188355065
                  },
                  {
                    "DeviceId": "N4172FJ-1",
                    "Period": 13,
                    "RUL": 198,
                    "Sensor11": 0,
                    "Sensor14": 8072.99,
                    "Sensor15": 9.33,
                    "Sensor9": 8358.01,
                    "features": {
                      "type": 1,
                      "values": [
                        0,
                        8072.99,
                        9.33,
                        8358.01
                      ]
                    },
                    "prediction": 149.33855228773427
                  },
                  {
                    "DeviceId": "N4172FJ-1",
                    "Period": 51,
                    "RUL": 216,
                    "Sensor11": 0,
                    "Sensor14": 8140.07,
                    "Sensor15": 8.73,
                    "Sensor9": 8796.27,
                    "features": {
                      "type": 1,
                      "values": [
                        0,
                        8140.07,
                        8.73,
                        8796.27
                      ]
                    },
                    "prediction": 164.57911327463444
                  },
                  {
                    "DeviceId": "N3172FJ-2",
                    "Period": 18,
                    "RUL": 135,
                    "Sensor11": 0,
                    "Sensor14": 8051.52,
                    "Sensor15": 9.22,
                    "Sensor9": 8721.42,
                    "features": {
                      "type": 1,
                      "values": [
                        0,
                        8051.52,
                        9.22,
                        8721.42
                      ]
                    },
                    "prediction": 150.2323143181966
                  },
                  {
                    "DeviceId": "N4172FJ-2",
                    "Period": 9,
                    "RUL": 221,
                    "Sensor11": 0,
                    "Sensor14": 8062.21,
                    "Sensor15": 9.4,
                    "Sensor9": 8347.06,
                    "features": {
                      "type": 1,
                      "values": [
                        0,
                        8062.21,
                        9.4,
                        8347.06
                      ]
                    },
                    "prediction": 148.70810307661395
                  },
                  {
                    "DeviceId": "N4172FJ-1",
                    "Period": 28,
                    "RUL": 260,
                    "Sensor11": 0,
                    "Sensor14": 8172.59,
                    "Sensor15": 8.51,
                    "Sensor9": 9104.91,
                    "features": {
                      "type": 1,
                      "values": [
                        0,
                        8172.59,
                        8.51,
                        9104.91
                      ]
                    },
                    "prediction": 188.88050062078582
                  },
                  {
                    "DeviceId": "N2172FJ-2",
                    "Period": 33,
                    "RUL": 210,
                    "Sensor11": 0.20784609690826553,
                    "Sensor14": 8080.02,
                    "Sensor15": 9.42,
                    "Sensor9": 8363.95,
                    "features": {
                      "type": 1,
                      "values": [
                        0.20784609690826553,
                        8080.02,
                        9.42,
                        8363.95
                      ]
                    },
                    "prediction": 173.31001819025005
                  },
                  {
                    "DeviceId": "N2172FJ-1",
                    "Period": 22,
                    "RUL": 225,
                    "Sensor11": 0,
                    "Sensor14": 8104.95,
                    "Sensor15": 8.77,
                    "Sensor9": 8757.53,
                    "features": {
                      "type": 1,
                      "values": [
                        0,
                        8104.95,
                        8.77,
                        8757.53
                      ]
                    },
                    "prediction": 139.1345247259369
                  },
                  {
                    "DeviceId": "N2172FJ-1",
                    "Period": 8,
                    "RUL": 218,
                    "Sensor11": 0,
                    "Sensor14": 8117.92,
                    "Sensor15": 9.44,
                    "Sensor9": 8363.85,
                    "features": {
                      "type": 1,
                      "values": [
                        0,
                        8117.92,
                        9.44,
                        8363.85
                      ]
                    },
                    "prediction": 197.98827990016252
                  },
                  {
                    "DeviceId": "N1172FJ-2",
                    "Period": 41,
                    "RUL": 201,
                    "Sensor11": 0,
                    "Sensor14": 7859.69,
                    "Sensor15": 10.98,
                    "Sensor9": 8006.57,
                    "features": {
                      "type": 1,
                      "values": [
                        0,
                        7859.69,
                        10.98,
                        8006.57
                      ]
                    },
                    "prediction": 157.9647862263555
                  },
                  {
                    "DeviceId": "N3172FJ-1",
                    "Period": 13,
                    "RUL": 183,
                    "Sensor11": 0,
                    "Sensor14": 8166.32,
                    "Sensor15": 8.47,
                    "Sensor9": 9091.71,
                    "features": {
                      "type": 1,
                      "values": [
                        0,
                        8166.32,
                        8.47,
                        9091.71
                      ]
                    },
                    "prediction": 178.00427842989302
                  },
                  {
                    "DeviceId": "N1172FJ-1",
                    "Period": 50,
                    "RUL": 243,
                    "Sensor11": 0,
                    "Sensor14": 8067.1,
                    "Sensor15": 9.46,
                    "Sensor9": 8308.65,
                    "features": {
                      "type": 1,
                      "values": [
                        0,
                        8067.1,
                        9.46,
                        8308.65
                      ]
                    },
                    "prediction": 156.58288631597316
                  },
                  {
                    "DeviceId": "N1172FJ-1",
                    "Period": 9,
                    "RUL": 238,
                    "Sensor11": 0,
                    "Sensor14": 8085.8,
                    "Sensor15": 9.44,
                    "Sensor9": 8335.73,
                    "features": {
                      "type": 1,
                      "values": [
                        0,
                        8085.8,
                        9.44,
                        8335.73
                      ]
                    },
                    "prediction": 170.8406577216947
                  },
                  {
                    "DeviceId": "N4172FJ-1",
                    "Period": 3,
                    "RUL": 28,
                    "Sensor11": 0,
                    "Sensor14": 8078.44,
                    "Sensor15": 9.4,
                    "Sensor9": 8321.34,
                    "features": {
                      "type": 1,
                      "values": [
                        0,
                        8078.44,
                        9.4,
                        8321.34
                      ]
                    },
                    "prediction": 159.02308585420997
                  },
                  {
                    "DeviceId": "N1172FJ-2",
                    "Period": 15,
                    "RUL": 178,
                    "Sensor11": 0,
                    "Sensor14": 8225.64,
                    "Sensor15": 9.36,
                    "Sensor9": 8475.52,
                    "features": {
                      "type": 1,
                      "values": [
                        0,
                        8225.64,
                        9.36,
                        8475.52
                      ]
                    },
                    "prediction": 280.67270006806393
                  },
                  {
                    "DeviceId": "N4172FJ-1",
                    "Period": 56,
                    "RUL": 92,
                    "Sensor11": 0,
                    "Sensor14": 8071.8,
                    "Sensor15": 9.27,
                    "Sensor9": 8362.9,
                    "features": {
                      "type": 1,
                      "values": [
                        0,
                        8071.8,
                        9.27,
                        8362.9
                      ]
                    },
                    "prediction": 141.45857024640372
                  },
                  {
                    "DeviceId": "N1172FJ-2",
                    "Period": 6,
                    "RUL": 225,
                    "Sensor11": 0,
                    "Sensor14": 8135.1,
                    "Sensor15": 9.42,
                    "Sensor9": 8430.59,
                    "features": {
                      "type": 1,
                      "values": [
                        0,
                        8135.1,
                        9.42,
                        8430.59
                      ]
                    },
                    "prediction": 214.45435560544684
                  },
                  {
                    "DeviceId": "N4172FJ-2",
                    "Period": 39,
                    "RUL": 44,
                    "Sensor11": 0,
                    "Sensor14": 8144.34,
                    "Sensor15": 8.4,
                    "Sensor9": 9058.96,
                    "features": {
                      "type": 1,
                      "values": [
                        0,
                        8144.34,
                        8.4,
                        9058.96
                      ]
                    },
                    "prediction": 149.6662866630877
                  },
                  {
                    "DeviceId": "N4172FJ-1",
                    "Period": 14,
                    "RUL": 133,
                    "Sensor11": 0,
                    "Sensor14": 8059.62,
                    "Sensor15": 9.33,
                    "Sensor9": 8346.18,
                    "features": {
                      "type": 1,
                      "values": [
                        0,
                        8059.62,
                        9.33,
                        8346.18
                      ]
                    },
                    "prediction": 138.02765996564813
                  },
                  {
                    "DeviceId": "N4172FJ-1",
                    "Period": 24,
                    "RUL": 38,
                    "Sensor11": 0,
                    "Sensor14": 8087.17,
                    "Sensor15": 9.31,
                    "Sensor9": 8322.63,
                    "features": {
                      "type": 1,
                      "values": [
                        0,
                        8087.17,
                        9.31,
                        8322.63
                      ]
                    },
                    "prediction": 154.79075948941136
                  },
                  {
                    "DeviceId": "N4172FJ-1",
                    "Period": 48,
                    "RUL": 157,
                    "Sensor11": 0,
                    "Sensor14": 8073.25,
                    "Sensor15": 9.25,
                    "Sensor9": 8736.94,
                    "features": {
                      "type": 1,
                      "values": [
                        0,
                        8073.25,
                        9.25,
                        8736.94
                      ]
                    },
                    "prediction": 171.98962961726556
                  },
                  {
                    "DeviceId": "N1172FJ-2",
                    "Period": 32,
                    "RUL": 193,
                    "Sensor11": 0,
                    "Sensor14": 8102.79,
                    "Sensor15": 9.44,
                    "Sensor9": 8354.8,
                    "features": {
                      "type": 1,
                      "values": [
                        0,
                        8102.79,
                        9.44,
                        8354.8
                      ]
                    },
                    "prediction": 185.5580428844878
                  },
                  {
                    "DeviceId": "N1172FJ-1",
                    "Period": 5,
                    "RUL": 147,
                    "Sensor11": 0,
                    "Sensor14": 8100.98,
                    "Sensor15": 8.72,
                    "Sensor9": 8760.95,
                    "features": {
                      "type": 1,
                      "values": [
                        0,
                        8100.98,
                        8.72,
                        8760.95
                      ]
                    },
                    "prediction": 130.21697977347594
                  },
                  {
                    "DeviceId": "N3172FJ-2",
                    "Period": 12,
                    "RUL": 224,
                    "Sensor11": 0,
                    "Sensor14": 7877.1,
                    "Sensor15": 10.93,
                    "Sensor9": 8028.24,
                    "features": {
                      "type": 1,
                      "values": [
                        0,
                        7877.1,
                        10.93,
                        8028.24
                      ]
                    },
                    "prediction": 167.07764653010327
                  },
                  {
                    "DeviceId": "N3172FJ-1",
                    "Period": 35,
                    "RUL": 122,
                    "Sensor11": 0,
                    "Sensor14": 8094.6,
                    "Sensor15": 9.34,
                    "Sensor9": 8336.01,
                    "features": {
                      "type": 1,
                      "values": [
                        0,
                        8094.6,
                        9.34,
                        8336.01
                      ]
                    },
                    "prediction": 165.34626007442057
                  },
                  {
                    "DeviceId": "N1172FJ-2",
                    "Period": 1,
                    "RUL": 223,
                    "Sensor11": 0,
                    "Sensor14": 8070.86,
                    "Sensor15": 9.45,
                    "Sensor9": 8355.68,
                    "features": {
                      "type": 1,
                      "values": [
                        0,
                        8070.86,
                        9.45,
                        8355.68
                      ]
                    },
                    "prediction": 162.25799679111697
                  },
                  {
                    "DeviceId": "N1172FJ-2",
                    "Period": 51,
                    "RUL": 182,
                    "Sensor11": 0,
                    "Sensor14": 8109.46,
                    "Sensor15": 9.43,
                    "Sensor9": 8356.06,
                    "features": {
                      "type": 1,
                      "values": [
                        0,
                        8109.46,
                        9.43,
                        8356.06
                      ]
                    },
                    "prediction": 189.57531101233235
                  },
                  {
                    "DeviceId": "N1172FJ-1",
                    "Period": 37,
                    "RUL": 190,
                    "Sensor11": 0,
                    "Sensor14": 8200.28,
                    "Sensor15": 9.4,
                    "Sensor9": 8441.83,
                    "features": {
                      "type": 1,
                      "values": [
                        0,
                        8200.28,
                        9.4,
                        8441.83
                      ]
                    },
                    "prediction": 263.17941553800847
                  },
                  {
                    "DeviceId": "N1172FJ-2",
                    "Period": 50,
                    "RUL": 223,
                    "Sensor11": 0,
                    "Sensor14": 8090.23,
                    "Sensor15": 9.46,
                    "Sensor9": 8325.39,
                    "features": {
                      "type": 1,
                      "values": [
                        0,
                        8090.23,
                        9.46,
                        8325.39
                      ]
                    },
                    "prediction": 175.83315264068733
                  },
                  {
                    "DeviceId": "N2172FJ-1",
                    "Period": 1,
                    "RUL": 202,
                    "Sensor11": 0,
                    "Sensor14": 8062.43,
                    "Sensor15": 9.42,
                    "Sensor9": 8354.5,
                    "features": {
                      "type": 1,
                      "values": [
                        0,
                        8062.43,
                        9.42,
                        8354.5
                      ]
                    },
                    "prediction": 151.9715205659013
                  },
                  {
                    "DeviceId": "N3172FJ-1",
                    "Period": 39,
                    "RUL": 72,
                    "Sensor11": 0,
                    "Sensor14": 7877.23,
                    "Sensor15": 10.92,
                    "Sensor9": 8006.24,
                    "features": {
                      "type": 1,
                      "values": [
                        0,
                        7877.23,
                        10.92,
                        8006.24
                      ]
                    },
                    "prediction": 164.07316046865162
                  },
                  {
                    "DeviceId": "N4172FJ-2",
                    "Period": 25,
                    "RUL": 163,
                    "Sensor11": 0,
                    "Sensor14": 8064.4,
                    "Sensor15": 9.23,
                    "Sensor9": 8723.86,
                    "features": {
                      "type": 1,
                      "values": [
                        0,
                        8064.4,
                        9.23,
                        8723.86
                      ]
                    },
                    "prediction": 161.5953998065952
                  },
                  {
                    "DeviceId": "N1172FJ-2",
                    "Period": 22,
                    "RUL": 203,
                    "Sensor11": 0,
                    "Sensor14": 8144.53,
                    "Sensor15": 8.49,
                    "Sensor9": 9069.05,
                    "features": {
                      "type": 1,
                      "values": [
                        0,
                        8144.53,
                        8.49,
                        9069.05
                      ]
                    },
                    "prediction": 161.74202748913194
                  },
                  {
                    "DeviceId": "N3172FJ-2",
                    "Period": 7,
                    "RUL": 116,
                    "Sensor11": 0,
                    "Sensor14": 7872.05,
                    "Sensor15": 10.9,
                    "Sensor9": 8017.52,
                    "features": {
                      "type": 1,
                      "values": [
                        0,
                        7872.05,
                        10.9,
                        8017.52
                      ]
                    },
                    "prediction": 158.58282359461646
                  },
                  {
                    "DeviceId": "N4172FJ-2",
                    "Period": 44,
                    "RUL": 49,
                    "Sensor11": 0,
                    "Sensor14": 8128.74,
                    "Sensor15": 8.43,
                    "Sensor9": 9050.2,
                    "features": {
                      "type": 1,
                      "values": [
                        0,
                        8128.74,
                        8.43,
                        9050.2
                      ]
                    },
                    "prediction": 140.58842229495076
                  },
                  {
                    "DeviceId": "N3172FJ-1",
                    "Period": 41,
                    "RUL": 125,
                    "Sensor11": 0,
                    "Sensor14": 8144.72,
                    "Sensor15": 8.64,
                    "Sensor9": 8800.82,
                    "features": {
                      "type": 1,
                      "values": [
                        0,
                        8144.72,
                        8.64,
                        8800.82
                      ]
                    },
                    "prediction": 157.48057326236176
                  },
                  {
                    "DeviceId": "N4172FJ-2",
                    "Period": 14,
                    "RUL": 82,
                    "Sensor11": 0,
                    "Sensor14": 8069.12,
                    "Sensor15": 9.21,
                    "Sensor9": 8726.66,
                    "features": {
                      "type": 1,
                      "values": [
                        0,
                        8069.12,
                        9.21,
                        8726.66
                      ]
                    },
                    "prediction": 163.0112989027548
                  },
                  {
                    "DeviceId": "N1172FJ-2",
                    "Period": 40,
                    "RUL": 187,
                    "Sensor11": 0,
                    "Sensor14": 8156.75,
                    "Sensor15": 9.42,
                    "Sensor9": 8402.2,
                    "features": {
                      "type": 1,
                      "values": [
                        0,
                        8156.75,
                        9.42,
                        8402.2
                      ]
                    },
                    "prediction": 228.7184208974286
                  },
                  {
                    "DeviceId": "N2172FJ-2",
                    "Period": 50,
                    "RUL": 202,
                    "Sensor11": 0,
                    "Sensor14": 7935.94,
                    "Sensor15": 11,
                    "Sensor9": 8078.72,
                    "features": {
                      "type": 1,
                      "values": [
                        0,
                        7935.94,
                        11,
                        8078.72
                      ]
                    },
                    "prediction": 225.33048572228927
                  },
                  {
                    "DeviceId": "N1172FJ-2",
                    "Period": 23,
                    "RUL": 213,
                    "Sensor11": 0,
                    "Sensor14": 8058.36,
                    "Sensor15": 9.48,
                    "Sensor9": 8309.73,
                    "features": {
                      "type": 1,
                      "values": [
                        0,
                        8058.36,
                        9.48,
                        8309.73
                      ]
                    },
                    "prediction": 152.39984197969534
                  },
                  {
                    "DeviceId": "N3172FJ-2",
                    "Period": 1,
                    "RUL": 54,
                    "Sensor11": 0,
                    "Sensor14": 8066.8,
                    "Sensor15": 9.39,
                    "Sensor9": 8312.53,
                    "features": {
                      "type": 1,
                      "values": [
                        0,
                        8066.8,
                        9.39,
                        8312.53
                      ]
                    },
                    "prediction": 148.07271787581703
                  },
                  {
                    "DeviceId": "N1172FJ-1",
                    "Period": 28,
                    "RUL": 199,
                    "Sensor11": 0,
                    "Sensor14": 8138.17,
                    "Sensor15": 8.76,
                    "Sensor9": 8803.37,
                    "features": {
                      "type": 1,
                      "values": [
                        0,
                        8138.17,
                        8.76,
                        8803.37
                      ]
                    },
                    "prediction": 167.40985039712268
                  },
                  {
                    "DeviceId": "N3172FJ-2",
                    "Period": 49,
                    "RUL": 149,
                    "Sensor11": 0,
                    "Sensor14": 8069.81,
                    "Sensor15": 9.34,
                    "Sensor9": 8351.78,
                    "features": {
                      "type": 1,
                      "values": [
                        0,
                        8069.81,
                        9.34,
                        8351.78
                      ]
                    },
                    "prediction": 147.58713230348167
                  },
                  {
                    "DeviceId": "N4172FJ-2",
                    "Period": 2,
                    "RUL": 181,
                    "Sensor11": 0,
                    "Sensor14": 7880.46,
                    "Sensor15": 10.95,
                    "Sensor9": 8020.99,
                    "features": {
                      "type": 1,
                      "values": [
                        0,
                        7880.46,
                        10.95,
                        8020.99
                      ]
                    },
                    "prediction": 171.50892123139693
                  },
                  {
                    "DeviceId": "N4172FJ-2",
                    "Period": 26,
                    "RUL": 93,
                    "Sensor11": 0,
                    "Sensor14": 8067.76,
                    "Sensor15": 9.3,
                    "Sensor9": 8350.1,
                    "features": {
                      "type": 1,
                      "values": [
                        0,
                        8067.76,
                        9.3,
                        8350.1
                      ]
                    },
                    "prediction": 140.94447537867654
                  },
                  {
                    "DeviceId": "N3172FJ-2",
                    "Period": 5,
                    "RUL": 218,
                    "Sensor11": 0,
                    "Sensor14": 8144.29,
                    "Sensor15": 8.47,
                    "Sensor9": 9066.79,
                    "features": {
                      "type": 1,
                      "values": [
                        0,
                        8144.29,
                        8.47,
                        9066.79
                      ]
                    },
                    "prediction": 158.90460876597444
                  },
                  {
                    "DeviceId": "N4172FJ-2",
                    "Period": 38,
                    "RUL": 169,
                    "Sensor11": 0,
                    "Sensor14": 8092.82,
                    "Sensor15": 9.38,
                    "Sensor9": 8337.36,
                    "features": {
                      "type": 1,
                      "values": [
                        0,
                        8092.82,
                        9.38,
                        8337.36
                      ]
                    },
                    "prediction": 169.00943148574333
                  },
                  {
                    "DeviceId": "N1172FJ-1",
                    "Period": 38,
                    "RUL": 199,
                    "Sensor11": 0,
                    "Sensor14": 8102.66,
                    "Sensor15": 9.44,
                    "Sensor9": 8343.84,
                    "features": {
                      "type": 1,
                      "values": [
                        0,
                        8102.66,
                        9.44,
                        8343.84
                      ]
                    },
                    "prediction": 184.52391618750698
                  }
                ],
                "schema": {
                  "DeviceId": "string",
                  "Period": "bigint",
                  "RUL": "bigint",
                  "Sensor11": "double",
                  "Sensor14": "double",
                  "Sensor15": "double",
                  "Sensor9": "double",
                  "features": "vector",
                  "prediction": "double"
                }
              },
              "isSummary": false,
              "language": "python"
            }
          },
          "execution_count": 23,
          "metadata": {}
        }
      ],
      "metadata": {
        "diagram": {
          "activateDiagramType": 1,
          "chartConfig": {
            "category": "bar",
            "keys": [
              "DeviceId"
            ],
            "values": [
              "Period"
            ],
            "yLabel": "Period",
            "xLabel": "DeviceId",
            "aggregation": "SUM",
            "aggByBackend": false
          },
          "aggData": {
            "Period": {
              "N1172FJ-1": 428,
              "N1172FJ-2": 388,
              "N2172FJ-1": 322,
              "N2172FJ-2": 529,
              "N3172FJ-1": 344,
              "N3172FJ-2": 428,
              "N4172FJ-1": 508,
              "N4172FJ-2": 448
            }
          },
          "isSummary": false,
          "previewData": {
            "filter": null
          },
          "isSql": false
        }
      },
      "source": [
        "# 確認\n",
        "display(prediction)"
      ],
      "attachments": {}
    },
    {
      "cell_type": "markdown",
      "metadata": {},
      "source": [
        "## ONNX形式で保存\n",
        ""
      ],
      "attachments": {}
    },
    {
      "cell_type": "code",
      "execution_count": 48,
      "outputs": [],
      "metadata": {},
      "source": [
        "from onnxmltools import convert_sparkml\n",
        "from onnxmltools.convert.common.data_types import FloatTensorType\n",
        "\n",
        "initial_types = [ \n",
        "    (\"features\", FloatTensorType([1, model.numFeatures]))\n",
        "]\n",
        ""
      ],
      "attachments": {}
    },
    {
      "cell_type": "code",
      "execution_count": 49,
      "outputs": [
        {
          "output_type": "execute_result",
          "data": {
            "text/plain": "ir_version: 6\nproducer_name: \"OnnxMLTools\"\nproducer_version: \"1.5.5\"\ndomain: \"onnxconverter-common\"\nmodel_version: 0\ndoc_string: \"\"\ngraph {\n  node {\n    input: \"features\"\n    output: \"prediction\"\n    name: \"LinearRegressor\"\n    op_type: \"LinearRegressor\"\n    attribute {\n      name: \"coefficients\"\n      floats: 26.632780075073242\n      type: FLOATS\n    }\n    attribute {\n      name: \"intercepts\"\n      floats: -972.1617431640625\n      type: FLOATS\n    }\n    domain: \"ai.onnx.ml\"\n  }\n  name: \"sparkml GeneralizedLinearRegression\"\n  input {\n    name: \"features\"\n    type {\n      tensor_type {\n        elem_type: 1\n        shape {\n          dim {\n            dim_value: 1\n          }\n          dim {\n            dim_value: 1\n          }\n        }\n      }\n    }\n  }\n  output {\n    name: \"prediction\"\n    type {\n      tensor_type {\n        elem_type: 1\n        shape {\n          dim {\n            dim_value: 1\n          }\n          dim {\n            dim_value: 1\n          }\n        }\n      }\n    }\n  }\n}\nopset_import {\n  domain: \"ai.onnx.ml\"\n  version: 1\n}"
          },
          "execution_count": 49,
          "metadata": {}
        }
      ],
      "metadata": {},
      "source": [
        "model_onnx = convert_sparkml(model, 'sparkml GeneralizedLinearRegression', initial_types)\n",
        "model_onnx"
      ],
      "attachments": {}
    },
    {
      "cell_type": "code",
      "execution_count": 40,
      "outputs": [
        {
          "output_type": "execute_result",
          "data": {
            "text/plain": "278"
          },
          "execution_count": 40,
          "metadata": {}
        }
      ],
      "metadata": {},
      "source": [
        "# ファイル化\n",
        "with open(\"model.onnx\", \"wb\") as f:\n",
        "    f.write(model_onnx.SerializeToString())"
      ],
      "attachments": {}
    },
    {
      "cell_type": "markdown",
      "metadata": {},
      "source": [
        "## データレイクに保存\n",
        "blobAPIを利用するため、Spark Poolにreference.txtを読み込ませてライブラリをインストールします。"
      ],
      "attachments": {}
    },
    {
      "cell_type": "code",
      "execution_count": 41,
      "outputs": [
        {
          "output_type": "execute_result",
          "data": {
            "text/plain": "{'etag': '\"0x8D7EA9E6A159DF9\"', 'last_modified': datetime.datetime(2020, 4, 27, 11, 30, 40, tzinfo=datetime.timezone.utc), 'content_md5': bytearray(b'\\x04\\xa7\\xd7\\x08\\xe2)\\xac\\xb7\\x91r\\xb9m\\x1f\\x93\\xc3\\x8d'), 'client_request_id': '85d7252a-887a-11ea-a981-000d3a07d930', 'request_id': '8975ef9d-401e-0027-0487-1c347d000000', 'version': '2019-07-07', 'date': datetime.datetime(2020, 4, 27, 11, 30, 39, tzinfo=datetime.timezone.utc), 'request_server_encrypted': True, 'encryption_key_sha256': None, 'encryption_scope': None, 'error_code': None}"
          },
          "execution_count": 41,
          "metadata": {}
        }
      ],
      "metadata": {},
      "source": [
        "connection_string = \"DefaultEndpointsProtocol=https;AccountName=<ストレージアカウント名>;AccountKey=<key>;EndpointSuffix=core.windows.net\"\n",
        "\n",
        "from azure.storage.blob import BlobClient\n",
        "\n",
        "blob = BlobClient.from_connection_string(conn_str=connection_string, container_name=\"datalake\", blob_name=\"Models/onnx/rul_model.onnx\")\n",
        "\n",
        "with open(\"./model.onnx\", \"rb\") as data:\n",
        "    blob.upload_blob(data, overwrite=True)"
      ],
      "attachments": {}
    }
  ]
}